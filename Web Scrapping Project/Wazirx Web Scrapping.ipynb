{
 "cells": [
  {
   "cell_type": "code",
   "execution_count": 11,
   "metadata": {},
   "outputs": [],
   "source": [
    "from bs4 import BeautifulSoup\n",
    "import requests\n",
    "import smtplib\n",
    "import time \n",
    "import datetime"
   ]
  },
  {
   "cell_type": "code",
   "execution_count": 12,
   "metadata": {},
   "outputs": [],
   "source": [
    "url = 'https://wazirx.com/exchange/BTC-INR'"
   ]
  },
  {
   "cell_type": "code",
   "execution_count": 13,
   "metadata": {},
   "outputs": [],
   "source": [
    "# header = {\"User-Agent\": \"Mozilla/5.0 (Windows NT 10.0; Win64; x64) AppleWebKit/537.36 (KHTML, like Gecko) Chrome/97.0.4692.71 Safari/537.36 Edg/97.0.1072.55\"}\n"
   ]
  },
  {
   "cell_type": "code",
   "execution_count": 19,
   "metadata": {},
   "outputs": [],
   "source": [
    "page = requests.get(url)"
   ]
  },
  {
   "cell_type": "code",
   "execution_count": 23,
   "metadata": {},
   "outputs": [
    {
     "data": {
      "text/plain": [
       "'<!doctype html><html lang=\"en-US\"><head><meta charset=\"utf-8\"/><meta name=\"viewport\" content=\"width=device-width,initial-scale=1,shrink-to-fit=yes,maximum-scale=1,user-scalable=no\"/><meta name=\"theme-color\" content=\"#3067f0\"/><meta property=\"og:image\" content=\"https://wazirx.com/og_image.png\" data-rdm/><meta property=\"og:title\" content=\"Buy Bitcoin, Cryptocurrency at Indiaâ\\x80\\x99s Largest Exchange | Trading Platform | WazirX\" data-rdm/><meta property=\"og:description\" content=\"WazirX is India\\'s most trusted Bitcoin and cryptocurrency exchange & trading platform. Buy, Sell & Trade BTC, XRP, ETH, TRX, and 100+ cryptocurrencies in India at best prices. Start trading Now!\" data-rdm/><meta name=\"twitter:card\" content=\"summary_large_image\" data-rdm/><meta name=\"twitter:site\" content=\"@wazirXindia\" data-rdm/><meta name=\"twitter:title\" content=\"Buy Bitcoin, Cryptocurrency at Indiaâ\\x80\\x99s Largest Exchange | Trading Platform | WazirX\" data-rdm/><meta name=\"twitter:description\" content=\"WazirX is India\\'s most trusted Bitcoin and cryptocurrency exchange & trading platform. Buy, Sell & Trade BTC, XRP, ETH, TRX, and 100+ cryptocurrencies in India at best prices. Start trading Now!\" data-rdm/><meta name=\"twitter:image\" content=\"https://wazirx.com/og_image.png\" data-rdm/><meta name=\"description\" content=\"WazirX is India\\'s most trusted Bitcoin and cryptocurrency exchange & trading platform. Buy, Sell & Trade BTC, XRP, ETH, TRX, and 100+ cryptocurrencies in India at best prices. Start trading Now!\" data-rdm/><meta name=\"keywords\" content=\"bitcoin, cryptocurrency, Exchange, btc, eth, ltc, bch, xrp, buy bitcoin India, bitcoin wallet, buy bitcoin, buy btc, buy ripple, buy ethereum, inr to btc, inr to ripple, eth to inr, bitcoin exchange, bitcoin inr conversion, btc price inr, cheap btc, cheap eth, lowest fee crypto exchange, receive bitcoin india, buy ripple india\" data-rdm/><link rel=\"manifest\" href=\"/manifest.json\"/><link rel=\"icon\" type=\"image/png\" href=\"/logo.png\"/><link rel=\"apple-app-site-association file\" type=\"text\" href=\"/.well-known/apple-app-site-association\"/><style>.section.open .articlewrap{height:120px}.articlewrap{height:0;background-color:transparent;overflow:hidden;transition:all .2s ease-in}.article{padding:1em;color:#333;line-height:1.3}body{background-color:#eceff1}</style><link rel=\"preconnect\" href=\"https://stats.pusher.com\"><link rel=\"preconnect\" href=\"https://wazirx.zendesk.com\"><link rel=\"preconnect\" href=\"https://fonts.googleapis.com\"><title>Buy Bitcoin, Cryptocurrency at Indiaâ\\x80\\x99s Largest Exchange | Trading Platform | WazirX</title><link href=\"/static/css/main.39a0ae6c.chunk.css\" rel=\"stylesheet\"></head><body><noscript>You need to enable JavaScript to run this app.</noscript><div id=\"root\"></div><script type=\"text/javascript\" defer=\"defer\" async>!function(e,a){if(!a.__SV){var o,r,t=window;try{var n,i,p,l=t.location,s=l.hash;n=function(e,t){return(i=e.match(RegExp(t+\"=([^&]*)\")))?i[1]:null},s&&n(s,\"state\")&&(\"mpeditor\"===(p=JSON.parse(decodeURIComponent(n(s,\"state\")))).action&&(t.sessionStorage.setItem(\"_mpcehash\",s),history.replaceState(p.desiredHash||\"\",e.title,l.pathname+l.search)))}catch(e){}(window.mixpanel=a)._i=[],a.init=function(e,t,n){function i(e,t){var n=t.split(\".\");2==n.length&&(e=e[n[0]],t=n[1]),e[t]=function(){e.push([t].concat(Array.prototype.slice.call(arguments,0)))}}var p=a;for(void 0!==n?p=a[n]=[]:n=\"mixpanel\",p.people=p.people||[],p.toString=function(e){var t=\"mixpanel\";return\"mixpanel\"!==n&&(t+=\".\"+n),e||(t+=\" (stub)\"),t},p.people.toString=function(){return p.toString(1)+\".people (stub)\"},o=\"disable time_event track track_pageview track_links track_forms register register_once alias unregister identify name_tag set_config reset people.set people.set_once people.unset people.increment people.append people.union people.track_charge people.clear_charges people.delete_user\".split(\" \"),r=0;r<o.length;r++)i(p,o[r]);a._i.push([e,t,n])},a.__SV=1.2,(t=e.createElement(\"script\")).type=\"text/javascript\",t.async=!0,t.src=\"undefined\"!=typeof MIXPANEL_CUSTOM_LIB_URL?MIXPANEL_CUSTOM_LIB_URL:\"file:\"===e.location.protocol&&\"//cdn.mxpnl.com/libs/mixpanel-2-latest.min.js\".match(/^\\\\/\\\\//)?\"https://cdn.mxpnl.com/libs/mixpanel-2-latest.min.js\":\"//cdn.mxpnl.com/libs/mixpanel-2-latest.min.js\",(n=e.getElementsByTagName(\"script\")[0]).parentNode.insertBefore(t,n)}}(document,window.mixpanel||[])</script><script type=\"text/javascript\" defer=\"defer\" async>!function(n,e,a,o,d,r,_,i){for(k in n.moengage_object=d,t={},q=function(e){return function(){(n.moengage_q=n.moengage_q||[]).push({f:e,a:arguments})}},f=[\"track_event\",\"add_user_attribute\",\"add_first_name\",\"add_last_name\",\"add_email\",\"add_mobile\",\"add_user_name\",\"add_gender\",\"add_birthday\",\"destroy_session\",\"add_unique_user_id\",\"moe_events\",\"call_web_push\",\"track\",\"location_type_attribute\"],h={onsite:[\"getData\",\"registerCallback\"]},f)t[f[k]]=q(f[k]);for(k in h)for(l in h[k])null==t[k]&&(t[k]={}),t[k][h[k][l]]=q(k+\".\"+h[k][l]);r=e.createElement(a),_=e.getElementsByTagName(a)[0],r.async=1,r.src=\"https://cdn.moengage.com/webpush/moe_webSdk.min.latest.js\",_.parentNode.insertBefore(r,_),n.moe=n.moe||function(){return i=arguments[0],t},r.onload=function(){i&&(n[d]=moe(i))}}(window,document,\"script\",0,\"Moengage\")</script><script>!function(o){function e(e){for(var t,c,f=e[0],d=e[1],r=e[2],n=0,a=[];n<f.length;n++)c=f[n],b[c]&&a.push(b[c][0]),b[c]=0;for(t in d)Object.prototype.hasOwnProperty.call(d,t)&&(o[t]=d[t]);for(p&&p(e);a.length;)a.shift()();return i.push.apply(i,r||[]),u()}function u(){for(var e,t=0;t<i.length;t++){for(var c=i[t],f=!0,d=1;d<c.length;d++){var r=c[d];0!==b[r]&&(f=!1)}f&&(i.splice(t--,1),e=s(s.s=c[0]))}return e}var c={},l={18:0},b={18:0},i=[];function s(e){if(c[e])return c[e].exports;var t=c[e]={i:e,l:!1,exports:{}};return o[e].call(t.exports,t,t.exports,s),t.l=!0,t.exports}s.e=function(i){var e=[];l[i]?e.push(l[i]):0!==l[i]&&{20:1,24:1,25:1}[i]&&e.push(l[i]=new Promise(function(e,f){for(var t=\"static/css/\"+({}[i]||i)+\".\"+{0:\"31d6cfe0\",1:\"31d6cfe0\",2:\"31d6cfe0\",3:\"31d6cfe0\",4:\"31d6cfe0\",5:\"31d6cfe0\",6:\"31d6cfe0\",7:\"31d6cfe0\",8:\"31d6cfe0\",9:\"31d6cfe0\",10:\"31d6cfe0\",11:\"31d6cfe0\",12:\"31d6cfe0\",13:\"31d6cfe0\",14:\"31d6cfe0\",15:\"31d6cfe0\",16:\"31d6cfe0\",20:\"a6b3dadf\",21:\"31d6cfe0\",22:\"31d6cfe0\",23:\"31d6cfe0\",24:\"0fab6baf\",25:\"e969f1d4\",26:\"31d6cfe0\",27:\"31d6cfe0\",28:\"31d6cfe0\",29:\"31d6cfe0\",30:\"31d6cfe0\",31:\"31d6cfe0\",32:\"31d6cfe0\",33:\"31d6cfe0\",34:\"31d6cfe0\",35:\"31d6cfe0\",36:\"31d6cfe0\",37:\"31d6cfe0\",38:\"31d6cfe0\",39:\"31d6cfe0\",40:\"31d6cfe0\",41:\"31d6cfe0\",42:\"31d6cfe0\",43:\"31d6cfe0\",44:\"31d6cfe0\",45:\"31d6cfe0\",46:\"31d6cfe0\",47:\"31d6cfe0\",48:\"31d6cfe0\",49:\"31d6cfe0\",50:\"31d6cfe0\",51:\"31d6cfe0\",52:\"31d6cfe0\",53:\"31d6cfe0\",54:\"31d6cfe0\",55:\"31d6cfe0\",56:\"31d6cfe0\",57:\"31d6cfe0\",58:\"31d6cfe0\",59:\"31d6cfe0\",60:\"31d6cfe0\",61:\"31d6cfe0\",62:\"31d6cfe0\",63:\"31d6cfe0\",64:\"31d6cfe0\"}[i]+\".chunk.css\",d=s.p+t,c=document.getElementsByTagName(\"link\"),r=0;r<c.length;r++){var n=(o=c[r]).getAttribute(\"data-href\")||o.getAttribute(\"href\");if(\"stylesheet\"===o.rel&&(n===t||n===d))return e()}var a=document.getElementsByTagName(\"style\");for(r=0;r<a.length;r++){var o;if((n=(o=a[r]).getAttribute(\"data-href\"))===t||n===d)return e()}var u=document.createElement(\"link\");u.rel=\"stylesheet\",u.type=\"text/css\",u.onload=e,u.onerror=function(e){var t=e&&e.target&&e.target.src||d,c=new Error(\"Loading CSS chunk \"+i+\" failed.\\\\n(\"+t+\")\");c.request=t,delete l[i],u.parentNode.removeChild(u),f(c)},u.href=d,document.getElementsByTagName(\"head\")[0].appendChild(u)}).then(function(){l[i]=0}));var c=b[i];if(0!==c)if(c)e.push(c[2]);else{var t=new Promise(function(e,t){c=b[i]=[e,t]});e.push(c[2]=t);var f,r=document.createElement(\"script\");r.charset=\"utf-8\",r.timeout=120,s.nc&&r.setAttribute(\"nonce\",s.nc),r.src=s.p+\"static/js/\"+({}[i]||i)+\".\"+{0:\"f397f193\",1:\"6a5c237f\",2:\"2c4c8e16\",3:\"310e83cd\",4:\"7f8b819f\",5:\"ebe4c07f\",6:\"dfbd26ec\",7:\"71f13bed\",8:\"8d78c593\",9:\"65002180\",10:\"a62cd2b2\",11:\"1da5a64d\",12:\"0a907623\",13:\"ceb38b65\",14:\"2dd1a59d\",15:\"510eb850\",16:\"5e999ef7\",20:\"eef7f79b\",21:\"bcb730f4\",22:\"4a5cc521\",23:\"b51be615\",24:\"0a3d7cae\",25:\"9d6cb1bb\",26:\"5c315abd\",27:\"59602e74\",28:\"527b06d1\",29:\"0ce2f1af\",30:\"289ffb06\",31:\"cb10021e\",32:\"1e1c9264\",33:\"69567aa8\",34:\"346cbf12\",35:\"757fbd37\",36:\"9095bd12\",37:\"37cb27c4\",38:\"8d15c029\",39:\"311a216d\",40:\"70efec31\",41:\"574cbc40\",42:\"c2a08992\",43:\"f27c256e\",44:\"aab55938\",45:\"19ebafbf\",46:\"78b9d473\",47:\"e2f71721\",48:\"e4b419ae\",49:\"3d3f8ea9\",50:\"22da3f70\",51:\"16d56302\",52:\"7ee040d7\",53:\"a9360765\",54:\"b2305bab\",55:\"1ce7bdd6\",56:\"1ce7a766\",57:\"9dde4766\",58:\"523dae8b\",59:\"93cfe1f2\",60:\"b1d5103d\",61:\"0676f5f6\",62:\"d070895a\",63:\"4bd6a288\",64:\"58c829e5\"}[i]+\".chunk.js\",f=function(e){r.onerror=r.onload=null,clearTimeout(n);var t=b[i];if(0!==t){if(t){var c=e&&(\"load\"===e.type?\"missing\":e.type),f=e&&e.target&&e.target.src,d=new Error(\"Loading chunk \"+i+\" failed.\\\\n(\"+c+\": \"+f+\")\");d.type=c,d.request=f,t[1](d)}b[i]=void 0}};var n=setTimeout(function(){f({type:\"timeout\",target:r})},12e4);r.onerror=r.onload=f,document.head.appendChild(r)}return Promise.all(e)},s.m=o,s.c=c,s.d=function(e,t,c){s.o(e,t)||Object.defineProperty(e,t,{enumerable:!0,get:c})},s.r=function(e){\"undefined\"!=typeof Symbol&&Symbol.toStringTag&&Object.defineProperty(e,Symbol.toStringTag,{value:\"Module\"}),Object.defineProperty(e,\"__esModule\",{value:!0})},s.t=function(t,e){if(1&e&&(t=s(t)),8&e)return t;if(4&e&&\"object\"==typeof t&&t&&t.__esModule)return t;var c=Object.create(null);if(s.r(c),Object.defineProperty(c,\"default\",{enumerable:!0,value:t}),2&e&&\"string\"!=typeof t)for(var f in t)s.d(c,f,function(e){return t[e]}.bind(null,f));return c},s.n=function(e){var t=e&&e.__esModule?function(){return e.default}:function(){return e};return s.d(t,\"a\",t),t},s.o=function(e,t){return Object.prototype.hasOwnProperty.call(e,t)},s.p=\"/\",s.oe=function(e){throw console.error(e),e};var t=window.webpackJsonp=window.webpackJsonp||[],f=t.push.bind(t);t.push=e,t=t.slice();for(var d=0;d<t.length;d++)e(t[d]);var p=f;u()}([])</script><script src=\"/static/js/19.b25d635d.chunk.js\"></script><script src=\"/static/js/main.0fd2238e.chunk.js\"></script><script defer src=\"https://static.cloudflareinsights.com/beacon.min.js/v652eace1692a40cfa3763df669d7439c1639079717194\" integrity=\"sha512-Gi7xpJR8tSkrpF7aordPZQlW2DLtzUlZcumS8dMQjwDHEnw9I7ZLyiOj/6tZStRBGtGgN6ceN6cMH8z7etPGlw==\" data-cf-beacon=\\'{\"rayId\":\"6de0a1ef9a2d89df\",\"token\":\"58f03ae06b3146a8ac56c0fedee31e2f\",\"version\":\"2021.12.0\",\"si\":100}\\' crossorigin=\"anonymous\"></script>\\n</body></html>'"
      ]
     },
     "execution_count": 23,
     "metadata": {},
     "output_type": "execute_result"
    }
   ],
   "source": [
    "page.text"
   ]
  },
  {
   "cell_type": "code",
   "execution_count": null,
   "metadata": {},
   "outputs": [],
   "source": []
  }
 ],
 "metadata": {
  "kernelspec": {
   "display_name": "Python 3",
   "language": "python",
   "name": "python3"
  },
  "language_info": {
   "codemirror_mode": {
    "name": "ipython",
    "version": 3
   },
   "file_extension": ".py",
   "mimetype": "text/x-python",
   "name": "python",
   "nbconvert_exporter": "python",
   "pygments_lexer": "ipython3",
   "version": "3.8.5"
  }
 },
 "nbformat": 4,
 "nbformat_minor": 4
}
