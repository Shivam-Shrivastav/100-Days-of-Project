{
 "cells": [
  {
   "cell_type": "code",
   "execution_count": 19,
   "metadata": {},
   "outputs": [],
   "source": [
    "import scenedetect"
   ]
  },
  {
   "cell_type": "code",
   "execution_count": 29,
   "metadata": {},
   "outputs": [],
   "source": [
    "# Standard PySceneDetect imports:\n",
    "from scenedetect import VideoManager\n",
    "from scenedetect import SceneManager\n",
    "\n",
    "# For content-aware scene detection:\n",
    "from scenedetect.detectors import ContentDetector\n",
    "\n",
    "def find_scenes(video_path, threshold=20.0):\n",
    "    # Create our video & scene managers, then add the detector.\n",
    "    video_manager = VideoManager([video_path])\n",
    "    scene_manager = SceneManager()\n",
    "    scene_manager.add_detector(\n",
    "        ContentDetector(threshold=threshold, min_scene_len=1))\n",
    "\n",
    "    # Improve processing speed by downscaling before processing.\n",
    "    video_manager.set_downscale_factor()\n",
    "\n",
    "    # Start the video manager and perform the scene detection.\n",
    "    video_manager.start()\n",
    "    scene_manager.detect_scenes(frame_source=video_manager)\n",
    "\n",
    "    # Each returned scene is a tuple of the (start, end) timecode.\n",
    "    return scene_manager.get_scene_list()"
   ]
  },
  {
   "cell_type": "code",
   "execution_count": 30,
   "metadata": {},
   "outputs": [
    {
     "name": "stderr",
     "output_type": "stream",
     "text": [
      "100%|█████████████████████████████████████████████████████████████████████████| 6879/6879 [00:36<00:00, 187.64frames/s]"
     ]
    },
    {
     "name": "stdout",
     "output_type": "stream",
     "text": [
      "[(FrameTimecode(frame=0, fps=25.000000), FrameTimecode(frame=1822, fps=25.000000)), (FrameTimecode(frame=1822, fps=25.000000), FrameTimecode(frame=1838, fps=25.000000)), (FrameTimecode(frame=1838, fps=25.000000), FrameTimecode(frame=1995, fps=25.000000)), (FrameTimecode(frame=1995, fps=25.000000), FrameTimecode(frame=2008, fps=25.000000)), (FrameTimecode(frame=2008, fps=25.000000), FrameTimecode(frame=2080, fps=25.000000)), (FrameTimecode(frame=2080, fps=25.000000), FrameTimecode(frame=2090, fps=25.000000)), (FrameTimecode(frame=2090, fps=25.000000), FrameTimecode(frame=2316, fps=25.000000)), (FrameTimecode(frame=2316, fps=25.000000), FrameTimecode(frame=2327, fps=25.000000)), (FrameTimecode(frame=2327, fps=25.000000), FrameTimecode(frame=3336, fps=25.000000)), (FrameTimecode(frame=3336, fps=25.000000), FrameTimecode(frame=6879, fps=25.000000))]\n"
     ]
    },
    {
     "name": "stderr",
     "output_type": "stream",
     "text": [
      "\n"
     ]
    }
   ],
   "source": [
    "scenes = find_scenes('KneeBendVideo.mp4')\n",
    "print(scenes)"
   ]
  },
  {
   "cell_type": "code",
   "execution_count": 44,
   "metadata": {},
   "outputs": [
    {
     "name": "stdout",
     "output_type": "stream",
     "text": [
      "(FrameTimecode(frame=0, fps=25.000000), FrameTimecode(frame=1822, fps=25.000000))\n",
      "(FrameTimecode(frame=1822, fps=25.000000), FrameTimecode(frame=1995, fps=25.000000))\n",
      "(FrameTimecode(frame=1995, fps=25.000000), FrameTimecode(frame=2008, fps=25.000000))\n",
      "(FrameTimecode(frame=2008, fps=25.000000), FrameTimecode(frame=2080, fps=25.000000))\n",
      "(FrameTimecode(frame=2080, fps=25.000000), FrameTimecode(frame=2090, fps=25.000000))\n",
      "(FrameTimecode(frame=2090, fps=25.000000), FrameTimecode(frame=2316, fps=25.000000))\n",
      "(FrameTimecode(frame=2316, fps=25.000000), FrameTimecode(frame=2327, fps=25.000000))\n",
      "(FrameTimecode(frame=2327, fps=25.000000), FrameTimecode(frame=3336, fps=25.000000))\n",
      "(FrameTimecode(frame=3336, fps=25.000000), FrameTimecode(frame=6879, fps=25.000000))\n"
     ]
    }
   ],
   "source": [
    "for i in range(len(scenes)):\n",
    "    print(scenes[i])"
   ]
  },
  {
   "cell_type": "code",
   "execution_count": 34,
   "metadata": {},
   "outputs": [],
   "source": [
    "# # Standard PySceneDetect imports:\n",
    "# from scenedetect import VideoManager\n",
    "# from scenedetect import SceneManager\n",
    "\n",
    "# # For content-aware scene detection:\n",
    "# from scenedetect.detectors import ContentDetector\n",
    "\n",
    "def find_scenes2(video_path, threshold=25.0):\n",
    "    # Create our video & scene managers, then add the detector.\n",
    "    video_manager = VideoManager([video_path])\n",
    "    scene_manager = SceneManager()\n",
    "    scene_manager.add_detector(\n",
    "        ContentDetector(threshold=threshold, min_scene_len=5))\n",
    "\n",
    "    # Improve processing speed by downscaling before processing.\n",
    "    video_manager.set_downscale_factor()\n",
    "\n",
    "    # Start the video manager and perform the scene detection.\n",
    "    video_manager.start()\n",
    "    scene_manager.detect_scenes(frame_source=video_manager)\n",
    "\n",
    "    # Each returned scene is a tuple of the (start, end) timecode.\n",
    "    return scene_manager.get_scene_list()"
   ]
  },
  {
   "cell_type": "code",
   "execution_count": 35,
   "metadata": {},
   "outputs": [
    {
     "name": "stderr",
     "output_type": "stream",
     "text": [
      "100%|█████████████████████████████████████████████████████████████████████████| 6879/6879 [00:35<00:00, 192.33frames/s]"
     ]
    },
    {
     "name": "stdout",
     "output_type": "stream",
     "text": [
      "[(FrameTimecode(frame=0, fps=25.000000), FrameTimecode(frame=1822, fps=25.000000)), (FrameTimecode(frame=1822, fps=25.000000), FrameTimecode(frame=1995, fps=25.000000)), (FrameTimecode(frame=1995, fps=25.000000), FrameTimecode(frame=2008, fps=25.000000)), (FrameTimecode(frame=2008, fps=25.000000), FrameTimecode(frame=2080, fps=25.000000)), (FrameTimecode(frame=2080, fps=25.000000), FrameTimecode(frame=2090, fps=25.000000)), (FrameTimecode(frame=2090, fps=25.000000), FrameTimecode(frame=2316, fps=25.000000)), (FrameTimecode(frame=2316, fps=25.000000), FrameTimecode(frame=2327, fps=25.000000)), (FrameTimecode(frame=2327, fps=25.000000), FrameTimecode(frame=3336, fps=25.000000)), (FrameTimecode(frame=3336, fps=25.000000), FrameTimecode(frame=6879, fps=25.000000))]\n"
     ]
    },
    {
     "name": "stderr",
     "output_type": "stream",
     "text": [
      "\n"
     ]
    }
   ],
   "source": [
    "scenes = find_scenes2('KneeBendVideo.mp4')\n",
    "print(scenes)"
   ]
  },
  {
   "cell_type": "code",
   "execution_count": 60,
   "metadata": {},
   "outputs": [],
   "source": [
    "dummy_frames = []\n",
    "for i in range(len(scenes)):\n",
    "    dummy_frames.append(scenes[i][1].frame_num)"
   ]
  },
  {
   "cell_type": "code",
   "execution_count": 138,
   "metadata": {},
   "outputs": [
    {
     "data": {
      "text/plain": [
       "1822"
      ]
     },
     "execution_count": 138,
     "metadata": {},
     "output_type": "execute_result"
    }
   ],
   "source": [
    "scenes[0][1].frame_num"
   ]
  },
  {
   "cell_type": "code",
   "execution_count": 139,
   "metadata": {},
   "outputs": [
    {
     "data": {
      "text/plain": [
       "[1822, 1995, 2008, 2080, 2090, 2316, 2327, 3336, 6879]"
      ]
     },
     "execution_count": 139,
     "metadata": {},
     "output_type": "execute_result"
    }
   ],
   "source": [
    "dummy_frames"
   ]
  },
  {
   "cell_type": "code",
   "execution_count": 144,
   "metadata": {},
   "outputs": [],
   "source": [
    "import cv2"
   ]
  },
  {
   "cell_type": "code",
   "execution_count": 145,
   "metadata": {},
   "outputs": [],
   "source": [
    "# cap = cv2.VideoCapture('vid.mp4')"
   ]
  },
  {
   "cell_type": "code",
   "execution_count": 146,
   "metadata": {},
   "outputs": [],
   "source": [
    "# a, b = cap.read()"
   ]
  },
  {
   "cell_type": "code",
   "execution_count": 152,
   "metadata": {},
   "outputs": [
    {
     "name": "stdout",
     "output_type": "stream",
     "text": [
      "6879\n"
     ]
    }
   ],
   "source": [
    "import cv2\n",
    "\n",
    "cap = cv2.VideoCapture(\"KneeBendVideo.mp4\")\n",
    "length = int(cap.get(cv2.CAP_PROP_FRAME_COUNT))\n",
    "print( length )"
   ]
  },
  {
   "cell_type": "code",
   "execution_count": 153,
   "metadata": {},
   "outputs": [
    {
     "ename": "TypeError",
     "evalue": "object of type 'NoneType' has no len()",
     "output_type": "error",
     "traceback": [
      "\u001b[1;31m---------------------------------------------------------------------------\u001b[0m",
      "\u001b[1;31mTypeError\u001b[0m                                 Traceback (most recent call last)",
      "\u001b[1;32m<ipython-input-153-140c4c9d4570>\u001b[0m in \u001b[0;36m<module>\u001b[1;34m\u001b[0m\n\u001b[1;32m----> 1\u001b[1;33m \u001b[0mlen\u001b[0m\u001b[1;33m(\u001b[0m\u001b[0mframe\u001b[0m\u001b[1;33m)\u001b[0m\u001b[1;33m\u001b[0m\u001b[1;33m\u001b[0m\u001b[0m\n\u001b[0m",
      "\u001b[1;31mTypeError\u001b[0m: object of type 'NoneType' has no len()"
     ]
    }
   ],
   "source": [
    "len(frame)"
   ]
  },
  {
   "cell_type": "code",
   "execution_count": null,
   "metadata": {},
   "outputs": [],
   "source": [
    "cap.get(cv2.CAP_PROP_)"
   ]
  }
 ],
 "metadata": {
  "kernelspec": {
   "display_name": "Python 3",
   "language": "python",
   "name": "python3"
  },
  "language_info": {
   "codemirror_mode": {
    "name": "ipython",
    "version": 3
   },
   "file_extension": ".py",
   "mimetype": "text/x-python",
   "name": "python",
   "nbconvert_exporter": "python",
   "pygments_lexer": "ipython3",
   "version": "3.8.5"
  }
 },
 "nbformat": 4,
 "nbformat_minor": 4
}
