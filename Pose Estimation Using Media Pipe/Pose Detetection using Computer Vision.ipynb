{
 "cells": [
  {
   "cell_type": "markdown",
   "metadata": {},
   "source": [
    "# Install and Import Dependencies"
   ]
  },
  {
   "cell_type": "code",
   "execution_count": 2,
   "metadata": {},
   "outputs": [],
   "source": [
    "import cv2\n",
    "import mediapipe as mp\n",
    "import numpy as np\n",
    "import scenedetect\n",
    "mp_drawing = mp.solutions.drawing_utils\n",
    "mp_pose = mp.solutions.pose\n",
    "# Standard PySceneDetect imports:\n",
    "from scenedetect import VideoManager\n",
    "from scenedetect import SceneManager\n",
    "\n",
    "# For content-aware scene detection:\n",
    "from scenedetect.detectors import ContentDetector"
   ]
  },
  {
   "cell_type": "markdown",
   "metadata": {},
   "source": [
    "# Calculate Angles"
   ]
  },
  {
   "cell_type": "code",
   "execution_count": 11,
   "metadata": {},
   "outputs": [],
   "source": [
    "def calculate_angle(a, b, c):\n",
    "    a = np.array(a)\n",
    "    b = np.array(b)\n",
    "    c = np.array(c)\n",
    "    \n",
    "    radians = np.arctan2(c[1]-b[1], c[0]-b[0]) - np.arctan2(a[1]-b[1], a[0]-b[0])\n",
    "    angle = np.abs(radians*180.0/np.pi)\n",
    "    \n",
    "    if angle >180.0:\n",
    "        angle = 360-angle\n",
    "        \n",
    "    return angle   "
   ]
  },
  {
   "cell_type": "markdown",
   "metadata": {},
   "source": [
    "# Get Cut Scenes Using scene_detect library"
   ]
  },
  {
   "cell_type": "code",
   "execution_count": 17,
   "metadata": {},
   "outputs": [],
   "source": [
    "\n",
    "\n",
    "def find_scenes(video_path, threshold=10.0):\n",
    "    # Create our video & scene managers, then add the detector.\n",
    "    video_manager = VideoManager([video_path])\n",
    "    scene_manager = SceneManager()\n",
    "    scene_manager.add_detector(\n",
    "        ContentDetector(threshold=threshold, min_scene_len=5))\n",
    "\n",
    "    # Improve processing speed by downscaling before processing.\n",
    "    video_manager.set_downscale_factor()\n",
    "\n",
    "    # Start the video manager and perform the scene detection.\n",
    "    video_manager.start()\n",
    "    scene_manager.detect_scenes(frame_source=video_manager)\n",
    "\n",
    "    # Each returned scene is a tuple of the (start, end) timecode.\n",
    "    return scene_manager.get_scene_list()"
   ]
  },
  {
   "cell_type": "code",
   "execution_count": 18,
   "metadata": {},
   "outputs": [
    {
     "name": "stderr",
     "output_type": "stream",
     "text": [
      "100%|█████████████████████████████████████████████████████████████████████████| 6879/6879 [00:33<00:00, 204.98frames/s]\n"
     ]
    }
   ],
   "source": [
    "scenes = find_scenes('KneeBendVideo.mp4')\n",
    "dummy_frames = []\n",
    "for i in range(len(scenes)-1):\n",
    "    if (scenes[i+1][1].frame_num) - (scenes[i][1].frame_num) <=25:\n",
    "        for x in range(scenes[i][1].frame_num, scenes[i+1][1].frame_num):\n",
    "            dummy_frames.append(x)"
   ]
  },
  {
   "cell_type": "markdown",
   "metadata": {},
   "source": [
    "# Rep Counter"
   ]
  },
  {
   "cell_type": "code",
   "execution_count": 19,
   "metadata": {},
   "outputs": [],
   "source": []
  },
  {
   "cell_type": "code",
   "execution_count": 32,
   "metadata": {},
   "outputs": [],
   "source": [
    "def get_knee_bend_reps_counter(input_video, output_video, dummy_frames):\n",
    "    cap = cv2.VideoCapture(input_video)\n",
    "    result = cv2.VideoWriter(output_video, \n",
    "                             cv2.VideoWriter_fourcc(*'MJPG'),\n",
    "                             25, (854, 640))\n",
    "    i = -1\n",
    "    counter = 0\n",
    "    stage = None\n",
    "    hold = False\n",
    "    ## Setup mediapipe instance\n",
    "    with mp_pose.Pose(min_detection_confidence=0.8, min_tracking_confidence=0.8) as pose:\n",
    "        while cap.isOpened():\n",
    "            i+=1\n",
    "            ret, frame = cap.read()\n",
    "\n",
    "            if i not in dummy_frames:\n",
    "                if ret == False:\n",
    "                    break\n",
    "\n",
    "                # Recolor image to RGB\n",
    "                image = cv2.cvtColor(frame, cv2.COLOR_BGR2RGB)\n",
    "                image.flags.writeable = False\n",
    "\n",
    "                # Make detection\n",
    "                results = pose.process(image)\n",
    "\n",
    "                # Recolor back to BGR\n",
    "                image.flags.writeable = True\n",
    "                image = cv2.cvtColor(image, cv2.COLOR_RGB2BGR)\n",
    "\n",
    "                # Extract landmarks\n",
    "                try:\n",
    "                    landmarks = results.pose_landmarks.landmark\n",
    "\n",
    "                    # Get coordinates\n",
    "                    hip = [landmarks[mp_pose.PoseLandmark.LEFT_HIP.value].x,landmarks[mp_pose.PoseLandmark.LEFT_HIP.value].y]\n",
    "                    knee = [landmarks[mp_pose.PoseLandmark.LEFT_KNEE.value].x,landmarks[mp_pose.PoseLandmark.LEFT_KNEE.value].y]\n",
    "                    ankle = [landmarks[mp_pose.PoseLandmark.LEFT_ANKLE.value].x,landmarks[mp_pose.PoseLandmark.LEFT_ANKLE.value].y]\n",
    "\n",
    "                    # Calculate angle\n",
    "                    angle = calculate_angle(hip, knee, ankle)\n",
    "\n",
    "                    # Visualize angle\n",
    "                    cv2.putText(image, f\"Angle: {str(angle)}\", \n",
    "                                   tuple(np.multiply(knee, [854, 600]).astype(int)), \n",
    "                                   cv2.FONT_HERSHEY_SIMPLEX, 0.5, (255, 255, 255), 1)\n",
    "\n",
    "                    # Rep Counter Logic\n",
    "                    if angle > 140:\n",
    "                        if stage == \"bent\" and hold == False:\n",
    "                            cv2.putText(image, \"Keep your knee bent\", (100, 100), cv2.FONT_HERSHEY_SIMPLEX, 1.2, (0, 0, 255), 2, cv2.LINE_AA)\n",
    "                        stage = \"straight\"\n",
    "                        hold = False\n",
    "                    elif angle < 140 and stage == \"straight\":\n",
    "                        stage = \"bent\"\n",
    "                        start = round(time.perf_counter())\n",
    "                    elif angle < 140 and stage == \"bent\" and hold == False:\n",
    "                        cv2.putText(image, f\"Holding Time: {str(round(time.perf_counter()) - start)}\", (80, 80), cv2.FONT_HERSHEY_SIMPLEX, 0.8, (255, 255, 255), 1)\n",
    "                        if round(time.perf_counter()) - start < 8:\n",
    "                            completed = False\n",
    "                        elif round(time.perf_counter()) - start == 8:\n",
    "                            hold = True\n",
    "                            counter+=1\n",
    "                    elif angle < 140 and stage == \"bent\" and hold == True:\n",
    "                        cv2.putText(image, f\"Holding Time: {str(round(time.perf_counter()) - start)}\", (80, 80), cv2.FONT_HERSHEY_SIMPLEX, 0.8, (255, 255, 255), 1)\n",
    "\n",
    "\n",
    "                    cv2.putText(image, f\"No. of Reps: {str(counter)}\", (120, 200), cv2.FONT_HERSHEY_SIMPLEX, 1, (40, 100, 255), 2, cv2.LINE_AA)\n",
    "\n",
    "\n",
    "\n",
    "                except:\n",
    "                    pass\n",
    "\n",
    "\n",
    "                # Render detections\n",
    "                mp_drawing.draw_landmarks(image, results.pose_landmarks, mp_pose.POSE_CONNECTIONS,\n",
    "                                        mp_drawing.DrawingSpec(color=(0,117,0), thickness=2, circle_radius=2), \n",
    "                                        mp_drawing.DrawingSpec(color=(0,66,230), thickness=2, circle_radius=2) \n",
    "                                         )               \n",
    "\n",
    "                result.write(image)\n",
    "    #             cv2.imshow('Knee Bend Rep Counter', image)\n",
    "\n",
    "    #             if cv2.waitKey(1) & 0xFF == ord('q'):\n",
    "    #                 break\n",
    "\n",
    "        cap.release()\n",
    "        cv2.destroyAllWindows()"
   ]
  },
  {
   "cell_type": "code",
   "execution_count": null,
   "metadata": {},
   "outputs": [],
   "source": [
    "s = [3, 7, 10, 15, 17]\n",
    "i = -1\n",
    "while i<20:\n",
    "    i+=1\n",
    "    if i in s:\n",
    "        print(i)"
   ]
  },
  {
   "cell_type": "code",
   "execution_count": null,
   "metadata": {},
   "outputs": [],
   "source": []
  }
 ],
 "metadata": {
  "kernelspec": {
   "display_name": "Python 3",
   "language": "python",
   "name": "python3"
  },
  "language_info": {
   "codemirror_mode": {
    "name": "ipython",
    "version": 3
   },
   "file_extension": ".py",
   "mimetype": "text/x-python",
   "name": "python",
   "nbconvert_exporter": "python",
   "pygments_lexer": "ipython3",
   "version": "3.8.5"
  }
 },
 "nbformat": 4,
 "nbformat_minor": 4
}
