{
  "cells": [
    {
      "cell_type": "markdown",
      "metadata": {
        "id": "H7LoMj4GA4n_"
      },
      "source": [
        "#  Train a GPT-2 Model on Tweets\n",
        "\n",
        "by [Max Woolf](http://minimaxir.com)\n",
        "\n",
        "To get started:\n",
        "\n",
        "1. Copy this notebook to your Google Drive to keep it and save your changes. (File -> Save a Copy in Drive)\n",
        "2. Make sure you're running the notebook in Google Chrome.\n",
        "3. Run the cells below:\n"
      ]
    },
    {
      "cell_type": "code",
      "execution_count": null,
      "metadata": {
        "colab": {
          "base_uri": "https://localhost:8080/"
        },
        "id": "KBkpRgBCBS2_",
        "outputId": "ee0084fb-5416-4765-908d-18dc569a6ffa"
      },
      "outputs": [
        {
          "output_type": "stream",
          "name": "stdout",
          "text": [
            "TensorFlow 1.x selected.\n"
          ]
        }
      ],
      "source": [
        "%tensorflow_version 1.x\n",
        "# !pip install -q gpt-2-simple\n",
        "import gpt_2_simple as gpt2\n",
        "from datetime import datetime\n",
        "from google.colab import files\n",
        "import tensorflow as tf"
      ]
    },
    {
      "cell_type": "markdown",
      "metadata": {
        "id": "Bj2IJLHP3KwE"
      },
      "source": [
        "## GPU\n",
        "\n",
        "Colaboratory uses a Nvidia T4 GPU, Nvidia K80 GPU, or a P100 GPU. The P100 is ideal. The T4 is slightly faster than the old K80 for training GPT-2, and has more memory allowing you to train the larger GPT-2 models and generate more text.\n",
        "\n",
        "You can verify which GPU is active by running the cell below."
      ]
    },
    {
      "cell_type": "code",
      "execution_count": null,
      "metadata": {
        "colab": {
          "base_uri": "https://localhost:8080/"
        },
        "id": "sUmTooTW3osf",
        "outputId": "b8c95d51-8e17-4b5f-ddfb-700896bcd448"
      },
      "outputs": [
        {
          "output_type": "stream",
          "name": "stdout",
          "text": [
            "Thu Feb 10 18:58:00 2022       \n",
            "+-----------------------------------------------------------------------------+\n",
            "| NVIDIA-SMI 460.32.03    Driver Version: 460.32.03    CUDA Version: 11.2     |\n",
            "|-------------------------------+----------------------+----------------------+\n",
            "| GPU  Name        Persistence-M| Bus-Id        Disp.A | Volatile Uncorr. ECC |\n",
            "| Fan  Temp  Perf  Pwr:Usage/Cap|         Memory-Usage | GPU-Util  Compute M. |\n",
            "|                               |                      |               MIG M. |\n",
            "|===============================+======================+======================|\n",
            "|   0  Tesla K80           Off  | 00000000:00:04.0 Off |                    0 |\n",
            "| N/A   57C    P8    31W / 149W |      0MiB / 11441MiB |      0%      Default |\n",
            "|                               |                      |                  N/A |\n",
            "+-------------------------------+----------------------+----------------------+\n",
            "                                                                               \n",
            "+-----------------------------------------------------------------------------+\n",
            "| Processes:                                                                  |\n",
            "|  GPU   GI   CI        PID   Type   Process name                  GPU Memory |\n",
            "|        ID   ID                                                   Usage      |\n",
            "|=============================================================================|\n",
            "|  No running processes found                                                 |\n",
            "+-----------------------------------------------------------------------------+\n"
          ]
        }
      ],
      "source": [
        "!nvidia-smi"
      ]
    },
    {
      "cell_type": "markdown",
      "metadata": {
        "id": "0wXB05bPDYxS"
      },
      "source": [
        "## Downloading GPT-2\n",
        "\n",
        "If you're retraining a model on new text, you need to download the GPT-2 model first. \n",
        "\n",
        "* `124M` (default): the \"small\" model, 500MB on disk.\n",
        "* `355M`: the \"medium\" model, 1.5GB on disk.\n",
        "\n",
        "Using the `774M` or `1558M` models is not recommended with tweet data, as tweets are short.\n",
        "\n",
        "You can specify which base model to use by changing `model_name` in the cells below.\n",
        "\n",
        "The next cell downloads it from Google Cloud Storage and saves it in the Colaboratory VM at `/models/<model_name>`.\n",
        "\n",
        "This model isn't permanently saved in the Colaboratory VM; you'll have to redownload it if you want to retrain it at a later time."
      ]
    },
    {
      "cell_type": "code",
      "execution_count": null,
      "metadata": {
        "colab": {
          "base_uri": "https://localhost:8080/"
        },
        "id": "P8wSlgXoDPCR",
        "outputId": "cda4ac6f-55f1-4e97-b09c-d48772d828c8"
      },
      "outputs": [
        {
          "output_type": "stream",
          "name": "stderr",
          "text": [
            "Fetching checkpoint: 1.05Mit [00:00, 460Mit/s]                                                      \n",
            "Fetching encoder.json: 1.05Mit [00:00, 4.53Mit/s]\n",
            "Fetching hparams.json: 1.05Mit [00:00, 595Mit/s]                                                    \n",
            "Fetching model.ckpt.data-00000-of-00001: 498Mit [00:11, 43.8Mit/s]\n",
            "Fetching model.ckpt.index: 1.05Mit [00:00, 394Mit/s]                                                \n",
            "Fetching model.ckpt.meta: 1.05Mit [00:00, 7.02Mit/s]\n",
            "Fetching vocab.bpe: 1.05Mit [00:00, 6.69Mit/s]\n"
          ]
        }
      ],
      "source": [
        "gpt2.download_gpt2(model_name=\"124M\")"
      ]
    },
    {
      "cell_type": "markdown",
      "metadata": {
        "id": "N8KXuKWzQSsN"
      },
      "source": [
        "## Mounting Google Drive\n",
        "\n",
        "The best way to get input text to-be-trained into the Colaboratory VM, and to get the trained model *out* of Colaboratory, is to route it through Google Drive *first*.\n",
        "\n",
        "Running this cell (which will only work in Colaboratory) will mount your personal Google Drive in the VM, which later cells can use to get data in/out. (it will ask for an auth code; that auth is not saved anywhere)"
      ]
    },
    {
      "cell_type": "code",
      "execution_count": null,
      "metadata": {
        "id": "puq4iC6vUAHc",
        "colab": {
          "base_uri": "https://localhost:8080/"
        },
        "outputId": "6b653c7e-2822-4af7-e2a6-b6c535b681db"
      },
      "outputs": [
        {
          "output_type": "stream",
          "name": "stdout",
          "text": [
            "Mounted at /content/drive\n"
          ]
        }
      ],
      "source": [
        "gpt2.mount_gdrive()"
      ]
    },
    {
      "cell_type": "markdown",
      "metadata": {
        "id": "BT__brhBCvJu"
      },
      "source": [
        "## Uploading a Text File to be Trained to Colaboratory\n",
        "\n",
        "In the Colaboratory Notebook sidebar on the left of the screen, select *Files*. From there you can upload files:\n",
        "\n",
        "![alt text](https://i.imgur.com/TGcZT4h.png)\n",
        "\n",
        "Upload **any smaller text file**  (<10 MB) and update the file name in the cell below, then run the cell."
      ]
    },
    {
      "cell_type": "code",
      "execution_count": null,
      "metadata": {
        "id": "eKwTicVBuzbk"
      },
      "outputs": [],
      "source": [
        ""
      ]
    },
    {
      "cell_type": "code",
      "execution_count": null,
      "metadata": {
        "id": "6OFnPCLADfll"
      },
      "outputs": [],
      "source": [
        "file_name = \"alltweets.csv\""
      ]
    },
    {
      "cell_type": "markdown",
      "metadata": {
        "id": "HeeSKtNWUedE"
      },
      "source": [
        "If your text file is larger than 10MB, it is recommended to upload that file to Google Drive first, then copy that file from Google Drive to the Colaboratory VM."
      ]
    },
    {
      "cell_type": "code",
      "execution_count": null,
      "metadata": {
        "id": "-Z6okFD8VKtS"
      },
      "outputs": [],
      "source": [
        "gpt2.copy_file_from_gdrive(file_name)"
      ]
    },
    {
      "cell_type": "markdown",
      "metadata": {
        "id": "LdpZQXknFNY3"
      },
      "source": [
        "## Finetune GPT-2\n",
        "\n",
        "The next cell will start the actual finetuning of GPT-2. It creates a persistent TensorFlow session which stores the training config, then runs the training for the specified number of `steps`. (to have the finetuning run indefinitely, set `steps = -1`)\n",
        "\n",
        "The model checkpoints will be saved in `/checkpoint/run1` by default. The checkpoints are saved every 500 steps (can be changed) and when the cell is stopped.\n",
        "\n",
        "The training might time out after 4ish hours; make sure you end training and save the results so you don't lose them!\n",
        "\n",
        "**IMPORTANT NOTE:** If you want to rerun this cell, **restart the VM first** (Runtime -> Restart Runtime). You will need to rerun imports but not recopy files.\n",
        "\n",
        "Other optional-but-helpful parameters for `gpt2.finetune`:\n",
        "\n",
        "\n",
        "*  **`restore_from`**: Set to `fresh` to start training from the base GPT-2, or set to `latest` to restart training from an existing checkpoint.\n",
        "* **`sample_every`**: Number of steps to print example output\n",
        "* **`print_every`**: Number of steps to print training progress.\n",
        "* **`learning_rate`**:  Learning rate for the training. (default `1e-4`, can lower to `1e-5` if you have <1MB input data)\n",
        "*  **`run_name`**: subfolder within `checkpoint` to save the model. This is useful if you want to work with multiple models (will also need to specify  `run_name` when loading the model)\n",
        "* **`overwrite`**: Set to `True` if you want to continue finetuning an existing model (w/ `restore_from='latest'`) without creating duplicate copies. "
      ]
    },
    {
      "cell_type": "code",
      "execution_count": null,
      "metadata": {
        "id": "aeXshJM-Cuaf",
        "colab": {
          "base_uri": "https://localhost:8080/"
        },
        "outputId": "08f4ce83-cf50-47d0-cecc-31ebef3f201f"
      },
      "outputs": [
        {
          "output_type": "stream",
          "name": "stdout",
          "text": [
            "Loading checkpoint models/124M/model.ckpt\n",
            "INFO:tensorflow:Restoring parameters from models/124M/model.ckpt\n",
            "Loading dataset...\n"
          ]
        },
        {
          "output_type": "stream",
          "name": "stderr",
          "text": [
            "100%|██████████| 1/1 [00:00<00:00, 276.87it/s]\n"
          ]
        },
        {
          "output_type": "stream",
          "name": "stdout",
          "text": [
            "dataset has 57228 tokens\n",
            "Training...\n",
            "[10 | 54.64] loss=2.27 avg=2.27\n",
            "[20 | 103.55] loss=2.03 avg=2.15\n",
            "[30 | 152.32] loss=1.69 avg=2.00\n",
            "[40 | 201.07] loss=1.48 avg=1.87\n",
            "[50 | 249.80] loss=1.60 avg=1.81\n",
            "[60 | 298.53] loss=1.15 avg=1.70\n",
            "[70 | 347.26] loss=1.50 avg=1.67\n",
            "[80 | 395.94] loss=1.20 avg=1.61\n",
            "[90 | 444.64] loss=0.75 avg=1.51\n",
            "[100 | 493.33] loss=0.64 avg=1.42\n",
            "[110 | 542.03] loss=0.57 avg=1.34\n",
            "[120 | 590.76] loss=0.66 avg=1.28\n",
            "[130 | 639.41] loss=0.42 avg=1.21\n",
            "[140 | 688.10] loss=0.28 avg=1.14\n",
            "[150 | 736.77] loss=0.22 avg=1.07\n",
            "[160 | 785.48] loss=0.20 avg=1.01\n",
            "[170 | 834.14] loss=0.15 avg=0.96\n",
            "[180 | 882.84] loss=0.12 avg=0.91\n",
            "[190 | 931.49] loss=0.12 avg=0.86\n",
            "[200 | 980.14] loss=0.20 avg=0.83\n",
            "[210 | 1028.79] loss=0.10 avg=0.79\n",
            "[220 | 1077.45] loss=0.09 avg=0.75\n",
            "[230 | 1126.15] loss=0.06 avg=0.72\n",
            "[240 | 1174.80] loss=0.08 avg=0.69\n",
            "[250 | 1223.45] loss=0.05 avg=0.66\n",
            "Saving checkpoint/run1/model-250\n",
            "======== SAMPLE 1 ========\n",
            "ucking>\n",
            "<|startoftext|>This is the issue. We talk more about it than we do about the *cringe*.   -Kola is running amok in these last 3 issues.  <|endoftext|>\n",
            "<|startoftext|>Holy shit if you lost money on the Squid Game crypto token<|endoftext|>\n",
            "<|startoftext|>I am writing these two into my will as we speak.  <|endoftext|>\n",
            "<|startoftext|>Post your love for John and his schoolpoop. Login to say something about him in a comment section this week  <|endoftext|>\n",
            "<|startoftext|>Gamble YOUR VALUE  <|endoftext|>\n",
            "<|startoftext|>12. Earwig-Frank's Emergency Plan Is Dead. what is your take on this mass murder<|endoftext|>\n",
            "<|startoftext|>7. There seems to be no scientific explanation for how noises are heard in the noise canceling industry.<|endoftext|>\n",
            "<|startoftext|>unova vibes @mayatochondria  <|endoftext|>\n",
            "<|startoftext|>leezeryl-mania  <|endoftext|>\n",
            "<|startoftext|>another huge win for ultrasound cia: researchers found ultrasound is actually a mechanical phenomenon where your mic is moved in a special way that when touched results in a stronger sounding signal<|endoftext|>\n",
            "<|startoftext|>33. Adrian Furniture Factory (and this one) are different from the fashion world<|endoftext|>\n",
            "<|startoftext|>wtf just happened  <|endoftext|>\n",
            "<|startoftext|>12.5.2 are you reading This is the New Year's email  <|endoftext|>\n",
            "<|startoftext|>I?m sorry for the sour taste in my mouth<|endoftext|>\n",
            "<|startoftext|>ayo?? Wordle 222 2/6*  (for sale? = yes)  <|endoftext|>\n",
            "<|startoftext|>12.5.2 are you reading This is the New Year's letter  <|endoftext|>\n",
            "<|startoftext|>I hope so .  <|endoftext|>\n",
            "<|startoftext|>I have a star on the Hollywood Walk of Fame<|endoftext|>\n",
            "<|startoftext|>? @hollywoodwalk  <|endoftext|>\n",
            "<|startoftext|>i regret to inform you my relationship with @LesleyWorld has been boosted to a Mf?<|endoftext|>\n",
            "<|startoftext|>TWO LIBS  <|endoftext|>\n",
            "<|startoftext|>Top billing holder Amazon today said it has learned of a cyberattack that may have allowed a fifth package to be extorted. The malware named Operative Manager appears in a number of cyberweapons and can be easily stopped with a smart phone. <|endoftext|>\n",
            "<|startoftext|>Credit:  <|endoftext|><|endoftext|><|start at it again<|endoftext|>\n",
            "<|startoftext|>12. Les Paraplu Mf?ravaganza  <|endoftext|>\n",
            "<|startoftext|>Duuuude?s Roguelike (Part 1)?  <|endoftext|>\n",
            "<|startoftext|>? I had the pleasure of voicing Johann Sebastian Bach in Les Paraplu.  <|endoftext|>\n",
            "<|startoftext|>You can buy copies of Les Paraplu for just under $200.  <|endoftext|>\n",
            "<|startoftext|>Les Paraplu is a triumpl and a trile of it I?m not saying I?ve made no secret of the fact that I?m addicted to it.  <|endoftext|>\n",
            "<|startoftext|>12. Les Paraplu (1964) the best film of the year<|endoftext|>\n",
            "<|startoftext|>I walked away from the comic book genre with a smorgasbord of horror movies on the shelf<|endoftext|>\n",
            "<|startoftext|>12. Les Paraplu #1  <|endoftext|>\n",
            "<|startoftext|>An art form that?s both beautiful and worthwhile.  <|endoftext|\n",
            "\n",
            "[260 | 1295.45] loss=0.06 avg=0.63\n",
            "[270 | 1344.12] loss=0.06 avg=0.61\n",
            "[280 | 1392.81] loss=0.04 avg=0.59\n",
            "[290 | 1441.50] loss=0.04 avg=0.57\n",
            "[300 | 1490.16] loss=0.03 avg=0.54\n",
            "[310 | 1538.78] loss=0.04 avg=0.53\n",
            "[320 | 1587.45] loss=0.03 avg=0.51\n",
            "[330 | 1636.09] loss=0.03 avg=0.49\n",
            "[340 | 1684.72] loss=0.03 avg=0.47\n",
            "[350 | 1733.37] loss=0.04 avg=0.46\n",
            "[360 | 1782.04] loss=0.04 avg=0.45\n",
            "[370 | 1830.70] loss=0.03 avg=0.43\n",
            "[380 | 1879.37] loss=0.03 avg=0.42\n",
            "[390 | 1928.01] loss=0.03 avg=0.41\n",
            "[400 | 1976.64] loss=0.04 avg=0.40\n",
            "[410 | 2025.28] loss=0.04 avg=0.39\n",
            "[420 | 2073.94] loss=0.03 avg=0.38\n",
            "[430 | 2122.60] loss=0.02 avg=0.37\n",
            "[440 | 2171.23] loss=0.03 avg=0.36\n",
            "[450 | 2219.89] loss=0.03 avg=0.35\n",
            "[460 | 2268.49] loss=0.03 avg=0.34\n",
            "[470 | 2317.15] loss=0.03 avg=0.33\n",
            "[480 | 2365.74] loss=0.04 avg=0.32\n",
            "[490 | 2414.43] loss=0.03 avg=0.32\n",
            "[500 | 2463.09] loss=0.04 avg=0.31\n",
            "Saving checkpoint/run1/model-500\n",
            "WARNING:tensorflow:From /usr/local/lib/python3.7/dist-packages/tensorflow/python/training/saver.py:1054: remove_checkpoint (from tensorflow.python.training.checkpoint_management) is deprecated and will be removed in a future version.\n",
            "Instructions for updating:\n",
            "Use standard file APIs to delete files with this prefix.\n",
            "======== SAMPLE 1 ========\n",
            " \n",
            "<|endoftext|>\n",
            "<|startoftext|>Astonishing: A violent and chaotic mass of gas and dust in a nearby supernova remnant called N 63A  N 63A is the remains of a huge star that exploded<|endoftext|>\n",
            "<|startoftext|>Lovely: The Cordillera Blanca in Peru as seen from space  If you look closely you can see that nestled in these mountain peaks are numerous glaciers and teal-colored tarn lakes.  (Credit: Earth Science and Remote Sensing Unit<|endoftext|>\n",
            "<|startoftext|>Does the brain really feel no pain?   <|endoftext|>\n",
            "<|startoftext|>Very cool 3D Solar System Crystal Ball with LED Colored Lighting:   <|endoftext|>\n",
            "<|startoftext|>To age better<|endoftext|>\n",
            "<|startoftext|>Very cool! Three planets dance over La Silla - (Jupiter<|endoftext|>\n",
            "<|startoftext|>Want to lose weight? Train the brain<|endoftext|>\n",
            "<|startoftext|>Revealed: how giant icebergs breathe life into remote oceans:   <|endoftext|>\n",
            "<|startoftext|>Why did the Helium atom feel lonely?   No one wanted to bond with it ?<|endoftext|>\n",
            "<|startoftext|>Why Russia has excellent engineering character:   <|endoftext|>\n",
            "<|startoftext|>Potentially life saving technology:   <|endoftext|>\n",
            "<|startoftext|>Breathtaking: Two of Jupiter's largest rotating storms!  Bright ?pop-up? clouds are visible above the lower storm<|endoftext|>\n",
            "<|startoftext|>How to Find Alien Dyson Spheres:   <|endoftext|>\n",
            "<|startoftext|>The most dangerous star in our sky<|endoftext|>\n",
            "<|startoftext|>Why was the Milky Way so dangerous back in the day?   <|endoftext|>\n",
            "<|startoftext|>The sciencey gadget of chemicals:  0 x 9  1 = 2 2 3 4 5 6 7 8 9 10 11 12 13 14 15 16 17 18 19 20 21 22 23 24 25 26 27 28 29 30 31 32 33 34 35 36 37 38 39 40 41 42 43 44 45 46 47 48 49 50 <|endoftext|>\n",
            "<|startoftext|>World of Engineering Quiz:  What voltage is needed to cause a 2A current flow through a 10O resistor?<|endoftext|>\n",
            "<|startoftext|>Interesting:  0 x 9  1 = 10 9  2 = 12 12  3 = 13 12  4 = 14 14  5 = 15 14  6 = 16 16  7 = 17 17  8 = 18 18  9 = 19 19  100 x 9  1 = 2020 204321 x1   <|endoftext|>\n",
            "<|startoftext|>Interesting:  14 x 9  2 = 34 34  3 = 400 840 x 840  <|endoftext|>\n",
            "<|startoftext|>?The engineer has been<|endoftext|>\n",
            "<|startoftext|>Term of the day: Angular acceleration  Definition: Is the rate of change of angular velocity. In three dimensions<|endoftext|>\n",
            "<|startoftext|>On Jan 9<|endoftext|>\n",
            "<|startoftext|>Space fact:    If you were driving at 75 miles per hour (121 kph)<|endoftext|>\n",
            "<|startoftext|>What are some really subtle signs that a person is actually stupid?  <|endoftext|>\n",
            "<|startoftext|>World of Engineering Quiz:  What voltage is needed to cause a 2A current flow through a 10O resistor?<|endoftext|>\n",
            "<|startoftext|>?Engineering is generally considered to be fun<|endoftext|>\n",
            "<|startoftext|>Cool idea to have on my future wall-wart work:  A screencap of CTgoes  <|endoftext|>\n",
            "<|startoftext|>The history of engineering is really the history of breakages<|endoftext|>\n",
            "<|startoftext|>Space fact:    The craters surrounding the Apollo 11 landing site are named after the astronauts.  <|endoftext|>\n",
            "<|startof\n",
            "\n",
            "[510 | 2533.50] loss=0.03 avg=0.30\n",
            "[520 | 2582.16] loss=0.04 avg=0.29\n",
            "[530 | 2630.79] loss=0.02 avg=0.29\n",
            "[540 | 2679.43] loss=0.02 avg=0.28\n",
            "[550 | 2728.12] loss=0.02 avg=0.28\n",
            "[560 | 2776.73] loss=0.03 avg=0.27\n",
            "[570 | 2825.37] loss=0.02 avg=0.26\n",
            "[580 | 2874.01] loss=0.02 avg=0.26\n",
            "[590 | 2922.64] loss=0.03 avg=0.25\n",
            "[600 | 2971.30] loss=0.02 avg=0.25\n",
            "[610 | 3019.92] loss=0.02 avg=0.24\n",
            "[620 | 3068.60] loss=0.02 avg=0.24\n",
            "[630 | 3117.28] loss=0.03 avg=0.23\n",
            "[640 | 3165.93] loss=0.02 avg=0.23\n",
            "[650 | 3214.57] loss=0.02 avg=0.23\n",
            "[660 | 3263.17] loss=0.03 avg=0.22\n",
            "[670 | 3311.82] loss=0.01 avg=0.22\n",
            "[680 | 3360.46] loss=0.02 avg=0.21\n",
            "[690 | 3409.08] loss=0.02 avg=0.21\n",
            "[700 | 3457.67] loss=0.02 avg=0.21\n",
            "[710 | 3506.29] loss=0.03 avg=0.20\n",
            "[720 | 3554.90] loss=0.02 avg=0.20\n",
            "[730 | 3603.54] loss=0.02 avg=0.20\n",
            "[740 | 3652.18] loss=0.02 avg=0.19\n",
            "[750 | 3700.82] loss=0.02 avg=0.19\n",
            "Saving checkpoint/run1/model-750\n",
            "======== SAMPLE 1 ========\n",
            " to me just got nominated for funniest man ever<|endoftext|>\n",
            "<|startoftext|>i had a funny interaction with a lady outside of Walgreens.  We did the awkward dance that people do when trying to get out of each other's way.  We failed &amp; just broke out laughing. Then she hugged me.  She was wearing a mask. I was not.  I walked away smiling. We'll be okay ;-)<|endoftext|>\n",
            "<|startoftext|>I had the pleasure of voicing @michaelmalice in The Anarchist Handbook. Check it out!  Michael is my friend. We disagree often &amp; this makes us both better. Plus I love the humor and the mystery.  I wish more young people could learn how to picture graphic identity cards. I hope so.<|endoftext|>\n",
            "<|startoftext|>The human heart pumps 2<|endoftext|>\n",
            "<|startoftext|>Thank you @ravensorcrows for painting one of my prouder moments.  <|endoftext|>\n",
            "<|startoftext|>My @YouTube channel received a strike. I'm guessing it's an error of automation. I know that @TeamYouTube has a tough job. Still<|endoftext|>\n",
            "<|startoftext|>Cats these days...  <|endoftext|>\n",
            "<|startoftext|>Here's @georgesstpierre teaching me his street fighting secrets. Check out full video on YouTube:  <|endoftext|>\n",
            "<|startoftext|>15 years ago today<|endoftext|>\n",
            "<|startoftext|>A year ago I started doing a lot more reading<|endoftext|>\n",
            "<|startoftext|>Here's my conversation with @marknorm<|endoftext|>\n",
            "<|startoftext|>New asthetic alert  <|endoftext|>\n",
            "<|startoftext|>The temptation to recreate this and post it around my village<|endoftext|>\n",
            "<|startoftext|>Who needs a tripod anyways  <|endoftext|>\n",
            "<|startoftext|>must. recommend. song.  <|endoftext|>\n",
            "<|startoftext|>Oh damn he's like me for real<|endoftext|>\n",
            "<|startoftext|>When da Japanese orchestral noise music starts to hit hard with da emtion ?  <|endoftext|>\n",
            "<|startoftext|>Can never win. So sad ? ?<|endoftext|>\n",
            "<|startoftext|>That moment when you reconnect with irl friends but then realize they are no different to my Twitter mutuals ? ?  <|endoftext|>\n",
            "<|startoftext|>If you feed enough people lies<|endoftext|>\n",
            "<|startoftext|>my unhealthy habit of avoiding responsibility by making spotify playlists<|endoftext|>\n",
            "<|startoftext|>When all the white dude rock bands that I listen to all look the same ??  <|endoftext|>\n",
            "<|startoftext|>I believe it was sun tzu that said  Do not attack your enemy<|endoftext|>\n",
            "<|startoftext|>Friend and I were talking about the flaws of democracy today in lunch (as you do) and made a comparison.   Democracy is much like a game of among us full of 7 year olds<|endoftext|>\n",
            "<|startoftext|>Only laibach can make a megaphone a musical instrument  <|endoftext|>\n",
            "<|startoftext|>Manipulating freshman into the fetus boy doctrine<|endoftext|>\n",
            "<|startoftext|>The way I see being good at AI is the ultimate jack of cards skill  Not an artist? Train a model that can. No friends? Clone a digital you. No grass? Too big a ask.<|endoftext|>\n",
            "<|startoftext|>Note this is the same group  <|endoftext|>\n",
            "<|startoftext|>The term black and white has nothing on my political views vs my music taste  <|endoftext|>\n",
            "<|startoftext|>Getting back into the world of AI art with this one #GauGAN  <|endoftext|>\n",
            "<|startoftext|>The brainrot is real when youre like oh<|endoftext|>\n",
            "<|startoftext|>I have learned my stuff has been apparently spread so far no one knows I\n",
            "\n",
            "[760 | 3771.14] loss=0.02 avg=0.19\n",
            "[770 | 3819.76] loss=0.02 avg=0.18\n",
            "[780 | 3868.37] loss=0.03 avg=0.18\n",
            "[790 | 3917.02] loss=0.02 avg=0.18\n",
            "[800 | 3965.69] loss=0.02 avg=0.17\n",
            "[810 | 4014.32] loss=0.02 avg=0.17\n",
            "[820 | 4062.94] loss=0.02 avg=0.17\n",
            "[830 | 4111.57] loss=0.02 avg=0.17\n",
            "[840 | 4160.20] loss=0.03 avg=0.16\n",
            "[850 | 4208.80] loss=0.02 avg=0.16\n",
            "[860 | 4257.42] loss=0.03 avg=0.16\n",
            "[870 | 4306.01] loss=0.02 avg=0.16\n",
            "[880 | 4354.61] loss=0.02 avg=0.15\n",
            "[890 | 4403.25] loss=0.02 avg=0.15\n",
            "[900 | 4451.85] loss=0.03 avg=0.15\n",
            "[910 | 4500.47] loss=0.02 avg=0.15\n",
            "[920 | 4549.08] loss=0.03 avg=0.15\n",
            "[930 | 4597.71] loss=0.02 avg=0.14\n",
            "[940 | 4646.31] loss=0.02 avg=0.14\n",
            "[950 | 4694.96] loss=0.02 avg=0.14\n",
            "[960 | 4743.60] loss=0.02 avg=0.14\n",
            "[970 | 4792.25] loss=0.02 avg=0.14\n",
            "[980 | 4840.90] loss=0.03 avg=0.13\n",
            "[990 | 4889.54] loss=0.03 avg=0.13\n",
            "[1000 | 4938.16] loss=0.02 avg=0.13\n",
            "Saving checkpoint/run1/model-1000\n"
          ]
        }
      ],
      "source": [
        "tf.compat.v1.reset_default_graph()\n",
        "sess = gpt2.start_tf_sess()\n",
        "\n",
        "gpt2.finetune(sess,\n",
        "              dataset=file_name,\n",
        "              model_name='124M',\n",
        "              steps=1000,\n",
        "              restore_from='fresh',\n",
        "              run_name='run1',\n",
        "              print_every=10,\n",
        "              sample_every=250,\n",
        "              save_every=250,\n",
        "              )"
      ]
    },
    {
      "cell_type": "markdown",
      "metadata": {
        "id": "IXSuTNERaw6K"
      },
      "source": [
        "After the model is trained, you can copy the checkpoint folder to your own Google Drive.\n",
        "\n",
        "If you want to download it to your personal computer, it's strongly recommended you copy it there first, then download from Google Drive. The checkpoint folder is copied as a `.rar` compressed file; you can download it and uncompress it locally."
      ]
    },
    {
      "cell_type": "code",
      "execution_count": null,
      "metadata": {
        "id": "VHdTL8NDbAh3"
      },
      "outputs": [],
      "source": [
        "tf.compat.v1.reset_default_graph()\n",
        "gpt2.copy_checkpoint_to_gdrive(run_name='run1')"
      ]
    },
    {
      "cell_type": "markdown",
      "metadata": {
        "id": "qQJgV_b4bmzd"
      },
      "source": [
        "You're done! Feel free to go to the **Generate Text From The Trained Model** section to generate text based on your retrained model."
      ]
    },
    {
      "cell_type": "markdown",
      "metadata": {
        "id": "pel-uBULXO2L"
      },
      "source": [
        "## Load a Trained Model Checkpoint\n",
        "\n",
        "Running the next cell will copy the `.rar` checkpoint file from your Google Drive into the Colaboratory VM."
      ]
    },
    {
      "cell_type": "code",
      "execution_count": null,
      "metadata": {
        "id": "DCcx5u7sbPTD"
      },
      "outputs": [],
      "source": [
        "tf.compat.v1.reset_default_graph()\n",
        "gpt2.copy_checkpoint_from_gdrive(run_name='run1')"
      ]
    },
    {
      "cell_type": "markdown",
      "metadata": {
        "id": "RTa6zf3e_9gV"
      },
      "source": [
        "The next cell will allow you to load the retrained model checkpoint + metadata necessary to generate text.\n",
        "\n",
        "**IMPORTANT NOTE:** If you want to rerun this cell, **restart the VM first** (Runtime -> Restart Runtime). You will need to rerun imports but not recopy files."
      ]
    },
    {
      "cell_type": "code",
      "execution_count": null,
      "metadata": {
        "id": "-fxL77nvAMAX",
        "colab": {
          "base_uri": "https://localhost:8080/"
        },
        "outputId": "1e448e32-266c-4bf6-b0ec-3b2216405d34"
      },
      "outputs": [
        {
          "output_type": "stream",
          "name": "stdout",
          "text": [
            "Loading checkpoint checkpoint/run1/model-1000\n",
            "INFO:tensorflow:Restoring parameters from checkpoint/run1/model-1000\n"
          ]
        }
      ],
      "source": [
        "tf.compat.v1.reset_default_graph()\n",
        "sess = gpt2.start_tf_sess()\n",
        "gpt2.load_gpt2(sess, run_name='run1')"
      ]
    },
    {
      "cell_type": "markdown",
      "metadata": {
        "id": "ClJwpF_ACONp"
      },
      "source": [
        "## Generate Text From The Trained Model\n",
        "\n",
        "After you've trained the model or loaded a retrained model from checkpoint, you can now generate text. `generate` generates a single text from the loaded model.\n",
        "\n",
        "However, for tweets, generating from the base model alone won't be as fruitful due to the necessary encoding. For a solution to that, see the next cell."
      ]
    },
    {
      "cell_type": "code",
      "execution_count": null,
      "metadata": {
        "id": "4RNY6RBI9LmL",
        "colab": {
          "base_uri": "https://localhost:8080/"
        },
        "outputId": "5a34a89e-463c-4177-a971-25d6b1d6da8c"
      },
      "outputs": [
        {
          "output_type": "stream",
          "name": "stdout",
          "text": [
            "World of Engineering Quiz:  What voltage is needed to cause a 2A current flow through a 10O resistor?  If this voltage is not taken into consideration in setting up a supply chain<|endoftext|>\n",
            "<|startoftext|>Term of the day: Reynolds Number (Rn)  Definition: The dimensionless number used by fluid flow engineers to characterize the way a fluid (gas or liquid) will behave when passing over a solid surface.<|endoftext|>\n",
            "<|startoftext|>On Feb 9<|endoftext|>\n",
            "<|startoftext|>It's 22:22 on 2-2-22 ?<|endoftext|>\n",
            "<|startoftext|>Space fact:    Saturn?s winds can blow up to 1<|endoftext|>\n",
            "<|startoftext|>Numbers and exponents:  5 = 518 5? = 598<|endoftext|>\n",
            "<|startoftext|>Understanding electronic components function.  <|endoftext|>\n",
            "<|startoftext|>?Engineers ... are not mere technicians and should not approve or lend their name to any project that does not promise to be beneficent to man and the advancement of civilization.? - John Fowler<|endoftext|>\n",
            "<|startoftext|>Term of the day: Prang ?  Definition: Term describing a failure mode whereby a rocket comes down aerodynamically stable<|endoftext|>\n",
            "<|startoftext|>It's 2:22 on 2-2-22 ?<|endoftext|>\n",
            "<|startoftext|>One thing to do at home when bored stuck in self-isolation ?  <|endoftext|>\n",
            "<|startoftext|>Space fact:    Apollo 11 only managed to leave the moon thanks to the cap of a felt tip pen<|endoftext|>\n",
            "<|startoftext|>Interesting:  2 million hydrogen atoms would be required to cover this full stop (.)<|endoftext|>\n",
            "<|startoftext|>If you could change one thing about Tesla car<|endoftext|>\n",
            "<|startoftext|>Interesting:  0 x 9  1 = 1 1 x 9  2 = 11  12 x 9  3 = 111 123 x 9  4 = 1111  1234 x 9  5 = 11111 12345 x 9  6 = 111111  123456 x 9  7 = 1111111  1234567 x 9  8 = 11111111  12345678 x 9  9 = 111111111  123456789 x 9  = 1111111111<|endoftext|>\n",
            "<|startoftext|>?Engineering ... to define rudely but not inaptly<|endoftext|>\n",
            "<|startoftext|>Space fact:  Outer Space is only 62 miles (100 km) away.<|endoftext|>\n",
            "<|startoftext|>It costs more to recycle Li batteries than to mine more lithium to make new ones.<|endoftext|>\n",
            "<|startoftext|>What's something you're surprised hasn't been invented yet?<|endoftext|>\n",
            "<|startoftext|>World of Engineering Quiz:  How can you measure nine minutes with have two hourglasses<|endoftext|>\n",
            "<|startoftext|>Karl Marx of course ? @Twitter you see<|endoftext|>\n",
            "<|startoftext|>Karl Max is an historically famous figure<|endoftext|>\n",
            "<|startoftext|>Salt water powered cars ? Run for about 10 minutes on each run.  <|endoftext|>\n",
            "<|startoftext|>January:  Twitter: 1<|endoftext|>\n",
            "<|startoftext|>?Engineering refers to the practice of organizing the design and construction [and<|endoftext|>\n",
            "<|startoftext|>Term of the day: Payload ?  Definition: Anything carried aloft by the rocket that is not part of the rocket itself. Common payloads include altimeters<|endoftext|>\n",
            "<|startoftext|>Antarctica the confusing continent ??  <|endoftext|>\n",
            "<|startoftext|>List of people that have walked on Mars:<|endoftext|>\n",
            "<|startoftext|>World of Engineering Quiz:  What bonds are formed by electrostatic attraction?<|endoftext|>\n",
            "<|startoftext|>What?s your favourite number and why?<|endoftext|>\n",
            "<|startoftext|>\n"
          ]
        }
      ],
      "source": [
        "# tf.compat.v1.reset_default_graph()\n",
        "tf.Graph().as_default()\n",
        "gpt2.generate(sess, run_name='run1')"
      ]
    },
    {
      "cell_type": "markdown",
      "metadata": {
        "id": "oF4-PqF0Fl7R"
      },
      "source": [
        "If you're creating an API based on your model and need to pass the generated text elsewhere, you can do `text = gpt2.generate(sess, return_as_list=True)[0]`\n",
        "\n",
        "You can also pass in a `prefix` to the generate function to force the text to start with a given character sequence and generate text from there (good if you add an indicator when the text starts).\n",
        "\n",
        "You can also generate multiple texts at a time by specifing `nsamples`. Unique to GPT-2, you can pass a `batch_size` to generate multiple samples in parallel, giving a massive speedup (in Colaboratory, set a maximum of 20 for `batch_size`).\n",
        "\n",
        "Other optional-but-helpful parameters for `gpt2.generate` and friends:\n",
        "\n",
        "*  **`length`**: Number of tokens to generate (default 1023, the maximum)\n",
        "* **`temperature`**: The higher the temperature, the crazier the text (default 0.7, recommended to keep between 0.7 and 1.0)\n",
        "* **`top_k`**: Limits the generated guesses to the top *k* guesses (default 0 which disables the behavior; if the generated output is super crazy, you may want to set `top_k=40`)\n",
        "* **`top_p`**: Nucleus sampling: limits the generated guesses to a cumulative probability. (gets good results on a dataset with `top_p=0.9`)\n",
        "* **`truncate`**: Truncates the input text until a given sequence, excluding that sequence (e.g. if `truncate='<|endoftext|>'`, the returned text will include everything before the first `<|endoftext|>`). It may be useful to combine this with a smaller `length` if the input texts are short.\n",
        "*  **`include_prefix`**: If using `truncate` and `include_prefix=False`, the specified `prefix` will not be included in the returned text.\n",
        "\n",
        "Tweets require specific `prefix`, `truncate`, and `include_prefix` as demoed below."
      ]
    },
    {
      "cell_type": "code",
      "execution_count": null,
      "metadata": {
        "id": "8DKMc0fiej4N",
        "colab": {
          "base_uri": "https://localhost:8080/"
        },
        "outputId": "c7137113-56ee-49fa-de0a-a9336b09d431"
      },
      "outputs": [
        {
          "output_type": "stream",
          "name": "stdout",
          "text": [
            "i do not trust a single fucking human being who has a dog as their profile picture on facebook. not even my own mother. they are all frauds\n",
            "====================\n",
            "i hope the new #dril dril\n",
            "====================\n",
            "TMvTM has no right to be as good as it is. By all means\n",
            "====================\n",
            "deleting this when the shame hits in a minute\n",
            "====================\n",
            "It doesn't matter which way u point yr prayer rug! The ocean diver doesn't need snowshoes! The calloused bride doesn't need to worry about who isperson by person! Together we can win the war on hate!  \n",
            "====================\n",
            "i've purposely let a pack of eggs rot in a cupboard since last october just in case\n",
            "====================\n",
            "Your Boyfriend Doesn't Scare Me music video just dropped  \n",
            "====================\n",
            "i love current events. for halloween i'm dressing up as a current event\n",
            "====================\n",
            "I took a pretty bad fall yesterday and fucked myself up y?all. I?m doing everything in my power to recover as quickly as possible?I?m so sorry we have to postpone these. I?m talking to my agents right now to get them rescheduled quickly!! Love you.\n",
            "====================\n",
            "You put the worst sandwich into the best sandwich. The sandwich gets evender.\n",
            "====================\n",
            "Happy 1 Year Anniversary to Chuckle Sandwich  Crazy it's been a year since starting the podcast with these two boys\n",
            "====================\n",
            "Talking about these with their researcher at  \n",
            "====================\n",
            "my brother Luke just took me to an incredible restaurant near my old 'hood: The Bluebird Bar &amp; Wood-Fired Grill. If these guys aren't geniuses\n",
            "====================\n",
            "i hold this one truth... that men with big guitars just want to suck your dick\n",
            "====================\n",
            "?I'm gonna wife her fuck\n",
            "====================\n",
            "This billing ???\n",
            "====================\n",
            "my job skills include being able to recognize my boss in a room full of other bosses\n",
            "====================\n",
            "the two most powerful forces in the universe are the Hatred ofrt Trolls and the Urge to Defecate. sadly\n",
            "====================\n",
            "Fuckass and Bubs. Fuckass and Bubs. Fuckass and Bubs. Fuckass and Bubs. Fuckass and Bubs. Fuckass and Bubs.  Fuckass and Bubs.  \n",
            "====================\n",
            "What dissolves a body faster\n",
            "====================\n"
          ]
        }
      ],
      "source": [
        "gpt2.generate(sess,\n",
        "              length=200,\n",
        "              temperature=0.7,\n",
        "              prefix='<|startoftext|>',\n",
        "              truncate='<|endoftext|>',\n",
        "              include_prefix=False,\n",
        "              nsamples=20,\n",
        "              batch_size=20\n",
        "              )"
      ]
    },
    {
      "cell_type": "markdown",
      "metadata": {
        "id": "zjjEN2Tafhl2"
      },
      "source": [
        "For bulk generation, you can generate a large amount of text to a file and sort out the samples locally on your computer. The next cell will generate a generated text file with a unique timestamp.\n",
        "\n",
        "You can rerun the cells as many times as you want for even more generated texts!"
      ]
    },
    {
      "cell_type": "code",
      "execution_count": null,
      "metadata": {
        "id": "Fa6p6arifSL0"
      },
      "outputs": [],
      "source": [
        "gen_file = 'gpt2_gentext_{:%Y%m%d_%H%M%S}.txt'.format(datetime.utcnow())\n",
        "\n",
        "gpt2.generate_to_file(sess,\n",
        "                      destination_path=gen_file,\n",
        "                      length=200,\n",
        "                      temperature=1.0,\n",
        "                      top_p=0.9,\n",
        "                      prefix='<|startoftext|>',\n",
        "                      truncate='<|endoftext|>',\n",
        "                      include_prefix=False,\n",
        "                      nsamples=1000,\n",
        "                      batch_size=20\n",
        "                      )"
      ]
    },
    {
      "cell_type": "code",
      "execution_count": null,
      "metadata": {
        "id": "0-LRex8lfv1g",
        "colab": {
          "base_uri": "https://localhost:8080/",
          "height": 34
        },
        "outputId": "61a33e22-5ebc-4775-d543-38829a43f424"
      },
      "outputs": [
        {
          "output_type": "display_data",
          "data": {
            "application/javascript": [
              "\n",
              "    async function download(id, filename, size) {\n",
              "      if (!google.colab.kernel.accessAllowed) {\n",
              "        return;\n",
              "      }\n",
              "      const div = document.createElement('div');\n",
              "      const label = document.createElement('label');\n",
              "      label.textContent = `Downloading \"${filename}\": `;\n",
              "      div.appendChild(label);\n",
              "      const progress = document.createElement('progress');\n",
              "      progress.max = size;\n",
              "      div.appendChild(progress);\n",
              "      document.body.appendChild(div);\n",
              "\n",
              "      const buffers = [];\n",
              "      let downloaded = 0;\n",
              "\n",
              "      const channel = await google.colab.kernel.comms.open(id);\n",
              "      // Send a message to notify the kernel that we're ready.\n",
              "      channel.send({})\n",
              "\n",
              "      for await (const message of channel.messages) {\n",
              "        // Send a message to notify the kernel that we're ready.\n",
              "        channel.send({})\n",
              "        if (message.buffers) {\n",
              "          for (const buffer of message.buffers) {\n",
              "            buffers.push(buffer);\n",
              "            downloaded += buffer.byteLength;\n",
              "            progress.value = downloaded;\n",
              "          }\n",
              "        }\n",
              "      }\n",
              "      const blob = new Blob(buffers, {type: 'application/binary'});\n",
              "      const a = document.createElement('a');\n",
              "      a.href = window.URL.createObjectURL(blob);\n",
              "      a.download = filename;\n",
              "      div.appendChild(a);\n",
              "      a.click();\n",
              "      div.remove();\n",
              "    }\n",
              "  "
            ],
            "text/plain": [
              "<IPython.core.display.Javascript object>"
            ]
          },
          "metadata": {}
        },
        {
          "output_type": "display_data",
          "data": {
            "application/javascript": [
              "download(\"download_481a9170-8ed1-4d1a-a5d1-3f80d0936a8a\", \"gpt2_gentext_20220210_202159.txt\", 90498)"
            ],
            "text/plain": [
              "<IPython.core.display.Javascript object>"
            ]
          },
          "metadata": {}
        }
      ],
      "source": [
        "# may have to run twice to get file to download\n",
        "files.download(gen_file)"
      ]
    },
    {
      "cell_type": "markdown",
      "metadata": {
        "id": "aPGdtsnXjRqm"
      },
      "source": [
        "If you want to generate a large number of 1,000 tweet files without having to click a cell button multiple times, you can use the cell below. You can then download the generated files by right-clicking them in the Files sidebar."
      ]
    },
    {
      "cell_type": "code",
      "execution_count": null,
      "metadata": {
        "id": "u45EtVUsjM8R",
        "colab": {
          "base_uri": "https://localhost:8080/",
          "height": 380
        },
        "outputId": "d30c8556-40b9-4e1b-bf98-687bd94007a0"
      },
      "outputs": [
        {
          "output_type": "error",
          "ename": "KeyboardInterrupt",
          "evalue": "ignored",
          "traceback": [
            "\u001b[0;31m---------------------------------------------------------------------------\u001b[0m",
            "\u001b[0;31mKeyboardInterrupt\u001b[0m                         Traceback (most recent call last)",
            "\u001b[0;32m<ipython-input-15-8200c344fb92>\u001b[0m in \u001b[0;36m<module>\u001b[0;34m()\u001b[0m\n\u001b[1;32m     13\u001b[0m                         \u001b[0minclude_prefix\u001b[0m\u001b[0;34m=\u001b[0m\u001b[0;32mFalse\u001b[0m\u001b[0;34m,\u001b[0m\u001b[0;34m\u001b[0m\u001b[0;34m\u001b[0m\u001b[0m\n\u001b[1;32m     14\u001b[0m                         \u001b[0mnsamples\u001b[0m\u001b[0;34m=\u001b[0m\u001b[0;36m1000\u001b[0m\u001b[0;34m,\u001b[0m\u001b[0;34m\u001b[0m\u001b[0;34m\u001b[0m\u001b[0m\n\u001b[0;32m---> 15\u001b[0;31m                         \u001b[0mbatch_size\u001b[0m\u001b[0;34m=\u001b[0m\u001b[0;36m20\u001b[0m\u001b[0;34m\u001b[0m\u001b[0;34m\u001b[0m\u001b[0m\n\u001b[0m\u001b[1;32m     16\u001b[0m                         )\n",
            "\u001b[0;32m/usr/local/lib/python3.7/dist-packages/gpt_2_simple/gpt_2.py\u001b[0m in \u001b[0;36mgenerate_to_file\u001b[0;34m(sess, run_name, checkpoint_dir, model_name, model_dir, truncate, destination_path, sample_delim, prefix, seed, nsamples, batch_size, length, temperature, top_k, top_p, include_prefix)\u001b[0m\n\u001b[1;32m    552\u001b[0m              \u001b[0mtop_k\u001b[0m\u001b[0;34m=\u001b[0m\u001b[0mtop_k\u001b[0m\u001b[0;34m,\u001b[0m\u001b[0;34m\u001b[0m\u001b[0;34m\u001b[0m\u001b[0m\n\u001b[1;32m    553\u001b[0m              \u001b[0mtop_p\u001b[0m\u001b[0;34m=\u001b[0m\u001b[0mtop_p\u001b[0m\u001b[0;34m,\u001b[0m\u001b[0;34m\u001b[0m\u001b[0;34m\u001b[0m\u001b[0m\n\u001b[0;32m--> 554\u001b[0;31m              include_prefix=include_prefix)\n\u001b[0m\u001b[1;32m    555\u001b[0m \u001b[0;34m\u001b[0m\u001b[0m\n\u001b[1;32m    556\u001b[0m \u001b[0;34m\u001b[0m\u001b[0m\n",
            "\u001b[0;32m/usr/local/lib/python3.7/dist-packages/gpt_2_simple/gpt_2.py\u001b[0m in \u001b[0;36mgenerate\u001b[0;34m(sess, run_name, checkpoint_dir, model_name, model_dir, sample_dir, return_as_list, truncate, destination_path, sample_delim, prefix, seed, nsamples, batch_size, length, temperature, top_k, top_p, include_prefix)\u001b[0m\n\u001b[1;32m    478\u001b[0m         \u001b[0;32melse\u001b[0m\u001b[0;34m:\u001b[0m\u001b[0;34m\u001b[0m\u001b[0;34m\u001b[0m\u001b[0m\n\u001b[1;32m    479\u001b[0m             out = sess.run(output, feed_dict={\n\u001b[0;32m--> 480\u001b[0;31m                     \u001b[0mcontext\u001b[0m\u001b[0;34m:\u001b[0m \u001b[0mbatch_size\u001b[0m \u001b[0;34m*\u001b[0m \u001b[0;34m[\u001b[0m\u001b[0mcontext_tokens\u001b[0m\u001b[0;34m]\u001b[0m\u001b[0;34m\u001b[0m\u001b[0;34m\u001b[0m\u001b[0m\n\u001b[0m\u001b[1;32m    481\u001b[0m                 })\n\u001b[1;32m    482\u001b[0m         \u001b[0;32mfor\u001b[0m \u001b[0mi\u001b[0m \u001b[0;32min\u001b[0m \u001b[0mrange\u001b[0m\u001b[0;34m(\u001b[0m\u001b[0mbatch_size\u001b[0m\u001b[0;34m)\u001b[0m\u001b[0;34m:\u001b[0m\u001b[0;34m\u001b[0m\u001b[0;34m\u001b[0m\u001b[0m\n",
            "\u001b[0;32m/usr/local/lib/python3.7/dist-packages/tensorflow/python/client/session.py\u001b[0m in \u001b[0;36mrun\u001b[0;34m(self, fetches, feed_dict, options, run_metadata)\u001b[0m\n\u001b[1;32m    966\u001b[0m     \u001b[0;32mtry\u001b[0m\u001b[0;34m:\u001b[0m\u001b[0;34m\u001b[0m\u001b[0;34m\u001b[0m\u001b[0m\n\u001b[1;32m    967\u001b[0m       result = self._run(None, fetches, feed_dict, options_ptr,\n\u001b[0;32m--> 968\u001b[0;31m                          run_metadata_ptr)\n\u001b[0m\u001b[1;32m    969\u001b[0m       \u001b[0;32mif\u001b[0m \u001b[0mrun_metadata\u001b[0m\u001b[0;34m:\u001b[0m\u001b[0;34m\u001b[0m\u001b[0;34m\u001b[0m\u001b[0m\n\u001b[1;32m    970\u001b[0m         \u001b[0mproto_data\u001b[0m \u001b[0;34m=\u001b[0m \u001b[0mtf_session\u001b[0m\u001b[0;34m.\u001b[0m\u001b[0mTF_GetBuffer\u001b[0m\u001b[0;34m(\u001b[0m\u001b[0mrun_metadata_ptr\u001b[0m\u001b[0;34m)\u001b[0m\u001b[0;34m\u001b[0m\u001b[0;34m\u001b[0m\u001b[0m\n",
            "\u001b[0;32m/usr/local/lib/python3.7/dist-packages/tensorflow/python/client/session.py\u001b[0m in \u001b[0;36m_run\u001b[0;34m(self, handle, fetches, feed_dict, options, run_metadata)\u001b[0m\n\u001b[1;32m   1189\u001b[0m     \u001b[0;32mif\u001b[0m \u001b[0mfinal_fetches\u001b[0m \u001b[0;32mor\u001b[0m \u001b[0mfinal_targets\u001b[0m \u001b[0;32mor\u001b[0m \u001b[0;34m(\u001b[0m\u001b[0mhandle\u001b[0m \u001b[0;32mand\u001b[0m \u001b[0mfeed_dict_tensor\u001b[0m\u001b[0;34m)\u001b[0m\u001b[0;34m:\u001b[0m\u001b[0;34m\u001b[0m\u001b[0;34m\u001b[0m\u001b[0m\n\u001b[1;32m   1190\u001b[0m       results = self._do_run(handle, final_targets, final_fetches,\n\u001b[0;32m-> 1191\u001b[0;31m                              feed_dict_tensor, options, run_metadata)\n\u001b[0m\u001b[1;32m   1192\u001b[0m     \u001b[0;32melse\u001b[0m\u001b[0;34m:\u001b[0m\u001b[0;34m\u001b[0m\u001b[0;34m\u001b[0m\u001b[0m\n\u001b[1;32m   1193\u001b[0m       \u001b[0mresults\u001b[0m \u001b[0;34m=\u001b[0m \u001b[0;34m[\u001b[0m\u001b[0;34m]\u001b[0m\u001b[0;34m\u001b[0m\u001b[0;34m\u001b[0m\u001b[0m\n",
            "\u001b[0;32m/usr/local/lib/python3.7/dist-packages/tensorflow/python/client/session.py\u001b[0m in \u001b[0;36m_do_run\u001b[0;34m(self, handle, target_list, fetch_list, feed_dict, options, run_metadata)\u001b[0m\n\u001b[1;32m   1369\u001b[0m     \u001b[0;32mif\u001b[0m \u001b[0mhandle\u001b[0m \u001b[0;32mis\u001b[0m \u001b[0;32mNone\u001b[0m\u001b[0;34m:\u001b[0m\u001b[0;34m\u001b[0m\u001b[0;34m\u001b[0m\u001b[0m\n\u001b[1;32m   1370\u001b[0m       return self._do_call(_run_fn, feeds, fetches, targets, options,\n\u001b[0;32m-> 1371\u001b[0;31m                            run_metadata)\n\u001b[0m\u001b[1;32m   1372\u001b[0m     \u001b[0;32melse\u001b[0m\u001b[0;34m:\u001b[0m\u001b[0;34m\u001b[0m\u001b[0;34m\u001b[0m\u001b[0m\n\u001b[1;32m   1373\u001b[0m       \u001b[0;32mreturn\u001b[0m \u001b[0mself\u001b[0m\u001b[0;34m.\u001b[0m\u001b[0m_do_call\u001b[0m\u001b[0;34m(\u001b[0m\u001b[0m_prun_fn\u001b[0m\u001b[0;34m,\u001b[0m \u001b[0mhandle\u001b[0m\u001b[0;34m,\u001b[0m \u001b[0mfeeds\u001b[0m\u001b[0;34m,\u001b[0m \u001b[0mfetches\u001b[0m\u001b[0;34m)\u001b[0m\u001b[0;34m\u001b[0m\u001b[0;34m\u001b[0m\u001b[0m\n",
            "\u001b[0;32m/usr/local/lib/python3.7/dist-packages/tensorflow/python/client/session.py\u001b[0m in \u001b[0;36m_do_call\u001b[0;34m(self, fn, *args)\u001b[0m\n\u001b[1;32m   1375\u001b[0m   \u001b[0;32mdef\u001b[0m \u001b[0m_do_call\u001b[0m\u001b[0;34m(\u001b[0m\u001b[0mself\u001b[0m\u001b[0;34m,\u001b[0m \u001b[0mfn\u001b[0m\u001b[0;34m,\u001b[0m \u001b[0;34m*\u001b[0m\u001b[0margs\u001b[0m\u001b[0;34m)\u001b[0m\u001b[0;34m:\u001b[0m\u001b[0;34m\u001b[0m\u001b[0;34m\u001b[0m\u001b[0m\n\u001b[1;32m   1376\u001b[0m     \u001b[0;32mtry\u001b[0m\u001b[0;34m:\u001b[0m\u001b[0;34m\u001b[0m\u001b[0;34m\u001b[0m\u001b[0m\n\u001b[0;32m-> 1377\u001b[0;31m       \u001b[0;32mreturn\u001b[0m \u001b[0mfn\u001b[0m\u001b[0;34m(\u001b[0m\u001b[0;34m*\u001b[0m\u001b[0margs\u001b[0m\u001b[0;34m)\u001b[0m\u001b[0;34m\u001b[0m\u001b[0;34m\u001b[0m\u001b[0m\n\u001b[0m\u001b[1;32m   1378\u001b[0m     \u001b[0;32mexcept\u001b[0m \u001b[0merrors\u001b[0m\u001b[0;34m.\u001b[0m\u001b[0mOpError\u001b[0m \u001b[0;32mas\u001b[0m \u001b[0me\u001b[0m\u001b[0;34m:\u001b[0m\u001b[0;34m\u001b[0m\u001b[0;34m\u001b[0m\u001b[0m\n\u001b[1;32m   1379\u001b[0m       \u001b[0mmessage\u001b[0m \u001b[0;34m=\u001b[0m \u001b[0mcompat\u001b[0m\u001b[0;34m.\u001b[0m\u001b[0mas_text\u001b[0m\u001b[0;34m(\u001b[0m\u001b[0me\u001b[0m\u001b[0;34m.\u001b[0m\u001b[0mmessage\u001b[0m\u001b[0;34m)\u001b[0m\u001b[0;34m\u001b[0m\u001b[0;34m\u001b[0m\u001b[0m\n",
            "\u001b[0;32m/usr/local/lib/python3.7/dist-packages/tensorflow/python/client/session.py\u001b[0m in \u001b[0;36m_run_fn\u001b[0;34m(feed_dict, fetch_list, target_list, options, run_metadata)\u001b[0m\n\u001b[1;32m   1359\u001b[0m       \u001b[0mself\u001b[0m\u001b[0;34m.\u001b[0m\u001b[0m_extend_graph\u001b[0m\u001b[0;34m(\u001b[0m\u001b[0;34m)\u001b[0m\u001b[0;34m\u001b[0m\u001b[0;34m\u001b[0m\u001b[0m\n\u001b[1;32m   1360\u001b[0m       return self._call_tf_sessionrun(options, feed_dict, fetch_list,\n\u001b[0;32m-> 1361\u001b[0;31m                                       target_list, run_metadata)\n\u001b[0m\u001b[1;32m   1362\u001b[0m \u001b[0;34m\u001b[0m\u001b[0m\n\u001b[1;32m   1363\u001b[0m     \u001b[0;32mdef\u001b[0m \u001b[0m_prun_fn\u001b[0m\u001b[0;34m(\u001b[0m\u001b[0mhandle\u001b[0m\u001b[0;34m,\u001b[0m \u001b[0mfeed_dict\u001b[0m\u001b[0;34m,\u001b[0m \u001b[0mfetch_list\u001b[0m\u001b[0;34m)\u001b[0m\u001b[0;34m:\u001b[0m\u001b[0;34m\u001b[0m\u001b[0;34m\u001b[0m\u001b[0m\n",
            "\u001b[0;32m/usr/local/lib/python3.7/dist-packages/tensorflow/python/client/session.py\u001b[0m in \u001b[0;36m_call_tf_sessionrun\u001b[0;34m(self, options, feed_dict, fetch_list, target_list, run_metadata)\u001b[0m\n\u001b[1;32m   1453\u001b[0m     return tf_session.TF_SessionRun_wrapper(self._session, options, feed_dict,\n\u001b[1;32m   1454\u001b[0m                                             \u001b[0mfetch_list\u001b[0m\u001b[0;34m,\u001b[0m \u001b[0mtarget_list\u001b[0m\u001b[0;34m,\u001b[0m\u001b[0;34m\u001b[0m\u001b[0;34m\u001b[0m\u001b[0m\n\u001b[0;32m-> 1455\u001b[0;31m                                             run_metadata)\n\u001b[0m\u001b[1;32m   1456\u001b[0m \u001b[0;34m\u001b[0m\u001b[0m\n\u001b[1;32m   1457\u001b[0m   \u001b[0;32mdef\u001b[0m \u001b[0m_call_tf_sessionprun\u001b[0m\u001b[0;34m(\u001b[0m\u001b[0mself\u001b[0m\u001b[0;34m,\u001b[0m \u001b[0mhandle\u001b[0m\u001b[0;34m,\u001b[0m \u001b[0mfeed_dict\u001b[0m\u001b[0;34m,\u001b[0m \u001b[0mfetch_list\u001b[0m\u001b[0;34m)\u001b[0m\u001b[0;34m:\u001b[0m\u001b[0;34m\u001b[0m\u001b[0;34m\u001b[0m\u001b[0m\n",
            "\u001b[0;31mKeyboardInterrupt\u001b[0m: "
          ]
        }
      ],
      "source": [
        "num_files = 10\n",
        "\n",
        "for _ in range(num_files):\n",
        "  gen_file = 'gpt2_gentext_{:%Y%m%d_%H%M%S}.txt'.format(datetime.utcnow())\n",
        "\n",
        "  gpt2.generate_to_file(sess,\n",
        "                        destination_path=gen_file,\n",
        "                        length=200,\n",
        "                        temperature=1.0,\n",
        "                        top_p=0.9,\n",
        "                        prefix='<|startoftext|>',\n",
        "                        truncate='<|endoftext|>',\n",
        "                        include_prefix=False,\n",
        "                        nsamples=1000,\n",
        "                        batch_size=20\n",
        "                        )"
      ]
    },
    {
      "cell_type": "markdown",
      "metadata": {
        "id": "ig-KVgkCDCKD"
      },
      "source": [
        "# Etcetera\n",
        "\n",
        "If the notebook has errors (e.g. GPU Sync Fail), force-kill the Colaboratory virtual machine and restart it with the command below:"
      ]
    },
    {
      "cell_type": "code",
      "execution_count": null,
      "metadata": {
        "id": "rIHiVP53FnsX"
      },
      "outputs": [],
      "source": [
        "!kill -9 -1"
      ]
    },
    {
      "cell_type": "markdown",
      "metadata": {
        "id": "wmTXWNUygS5E"
      },
      "source": [
        "# LICENSE\n",
        "\n",
        "MIT License\n",
        "\n",
        "Copyright (c) 2019-2020 Max Woolf\n",
        "\n",
        "Permission is hereby granted, free of charge, to any person obtaining a copy\n",
        "of this software and associated documentation files (the \"Software\"), to deal\n",
        "in the Software without restriction, including without limitation the rights\n",
        "to use, copy, modify, merge, publish, distribute, sublicense, and/or sell\n",
        "copies of the Software, and to permit persons to whom the Software is\n",
        "furnished to do so, subject to the following conditions:\n",
        "\n",
        "The above copyright notice and this permission notice shall be included in all\n",
        "copies or substantial portions of the Software.\n",
        "\n",
        "THE SOFTWARE IS PROVIDED \"AS IS\", WITHOUT WARRANTY OF ANY KIND, EXPRESS OR\n",
        "IMPLIED, INCLUDING BUT NOT LIMITED TO THE WARRANTIES OF MERCHANTABILITY,\n",
        "FITNESS FOR A PARTICULAR PURPOSE AND NONINFRINGEMENT. IN NO EVENT SHALL THE\n",
        "AUTHORS OR COPYRIGHT HOLDERS BE LIABLE FOR ANY CLAIM, DAMAGES OR OTHER\n",
        "LIABILITY, WHETHER IN AN ACTION OF CONTRACT, TORT OR OTHERWISE, ARISING FROM,\n",
        "OUT OF OR IN CONNECTION WITH THE SOFTWARE OR THE USE OR OTHER DEALINGS IN THE\n",
        "SOFTWARE."
      ]
    }
  ],
  "metadata": {
    "accelerator": "GPU",
    "colab": {
      "collapsed_sections": [],
      "name": "Training_GPT-2_Model_on_Tweets.ipynb",
      "provenance": []
    },
    "kernelspec": {
      "display_name": "Python 3",
      "name": "python3"
    }
  },
  "nbformat": 4,
  "nbformat_minor": 0
}